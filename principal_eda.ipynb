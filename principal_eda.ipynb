{
 "cells": [
  {
   "cell_type": "code",
   "execution_count": 2,
   "metadata": {},
   "outputs": [],
   "source": [
    "import pandas as pd\n",
    "import numpy as np\n",
    "import matplotlib.pyplot as plt\n",
    "import seaborn as sns"
   ]
  },
  {
   "cell_type": "code",
   "execution_count": 41,
   "metadata": {},
   "outputs": [],
   "source": [
    "from sklearn.preprocessing import StandardScaler, PolynomialFeatures\n",
    "from sklearn.svm import LinearSVR, SVC, SVR\n",
    "from sklearn.linear_model import LinearRegression, Lasso, Ridge, ElasticNet\n",
    "from sklearn.pipeline import Pipeline\n",
    "from sklearn.neighbors import KNeighborsRegressor\n",
    "from sklearn.tree import DecisionTreeRegressor, plot_tree\n",
    "from sklearn.ensemble import RandomForestRegressor, GradientBoostingRegressor, VotingRegressor\n",
    "import xgboost"
   ]
  },
  {
   "cell_type": "code",
   "execution_count": 3,
   "metadata": {},
   "outputs": [],
   "source": [
    "df = pd.read_csv(\"./data/data.csv\")\n",
    "df = df.copy()\n",
    "data_raw = df.copy()"
   ]
  },
  {
   "cell_type": "code",
   "execution_count": 60,
   "metadata": {},
   "outputs": [
    {
     "name": "stdout",
     "output_type": "stream",
     "text": [
      "<class 'pandas.core.frame.DataFrame'>\n",
      "RangeIndex: 31644 entries, 0 to 31643\n",
      "Data columns (total 10 columns):\n",
      " #   Column               Non-Null Count  Dtype  \n",
      "---  ------               --------------  -----  \n",
      " 0   id                   31644 non-null  int64  \n",
      " 1   author               26620 non-null  object \n",
      " 2   geometry             26144 non-null  object \n",
      " 3   pressure [MPa]       27192 non-null  float64\n",
      " 4   mass_flux [kg/m2-s]  26853 non-null  float64\n",
      " 5   x_e_out [-]          21229 non-null  float64\n",
      " 6   D_e [mm]             26156 non-null  float64\n",
      " 7   D_h [mm]             27055 non-null  float64\n",
      " 8   length [mm]          26885 non-null  float64\n",
      " 9   chf_exp [MW/m2]      31644 non-null  float64\n",
      "dtypes: float64(7), int64(1), object(2)\n",
      "memory usage: 2.4+ MB\n"
     ]
    }
   ],
   "source": [
    "df.info()"
   ]
  },
  {
   "cell_type": "code",
   "execution_count": 61,
   "metadata": {},
   "outputs": [],
   "source": [
    "null_d = df[df[\"D_h [mm]\"].isnull() & df[\"D_e [mm]\"].isnull()][\"id\"]\n",
    "df.drop(null_d, inplace=True, axis=0)"
   ]
  },
  {
   "cell_type": "code",
   "execution_count": 62,
   "metadata": {},
   "outputs": [
    {
     "data": {
      "text/plain": [
       "8            8\n",
       "59          59\n",
       "64          64\n",
       "100        100\n",
       "135        135\n",
       "         ...  \n",
       "31582    31582\n",
       "31601    31601\n",
       "31606    31606\n",
       "31611    31611\n",
       "31632    31632\n",
       "Name: id, Length: 815, dtype: int64"
      ]
     },
     "execution_count": 62,
     "metadata": {},
     "output_type": "execute_result"
    }
   ],
   "source": [
    "null_d"
   ]
  },
  {
   "cell_type": "code",
   "execution_count": 67,
   "metadata": {},
   "outputs": [
    {
     "data": {
      "text/plain": [
       "242.73999999999998"
      ]
     },
     "execution_count": 67,
     "metadata": {},
     "output_type": "execute_result"
    }
   ],
   "source": [
    "(((11.6 ** 2) + (4*212*2)**1/2)-11.6)/4"
   ]
  },
  {
   "cell_type": "code",
   "execution_count": 7,
   "metadata": {},
   "outputs": [],
   "source": [
    "target = df[\"x_e_out [-]\"]\n",
    "\n",
    "df = df.drop(columns=[\"author\"])"
   ]
  },
  {
   "cell_type": "code",
   "execution_count": 58,
   "metadata": {},
   "outputs": [
    {
     "name": "stdout",
     "output_type": "stream",
     "text": [
      "<class 'pandas.core.frame.DataFrame'>\n",
      "Int64Index: 30829 entries, 0 to 31643\n",
      "Data columns (total 10 columns):\n",
      " #   Column               Non-Null Count  Dtype  \n",
      "---  ------               --------------  -----  \n",
      " 0   id                   30829 non-null  int64  \n",
      " 1   author               25918 non-null  object \n",
      " 2   geometry             25475 non-null  object \n",
      " 3   pressure [MPa]       26504 non-null  float64\n",
      " 4   mass_flux [kg/m2-s]  26144 non-null  float64\n",
      " 5   x_e_out [-]          20673 non-null  float64\n",
      " 6   D_e [mm]             26156 non-null  float64\n",
      " 7   D_h [mm]             27055 non-null  float64\n",
      " 8   length [mm]          26202 non-null  float64\n",
      " 9   chf_exp [MW/m2]      30829 non-null  float64\n",
      "dtypes: float64(7), int64(1), object(2)\n",
      "memory usage: 3.6+ MB\n"
     ]
    }
   ],
   "source": [
    "df.info()"
   ]
  },
  {
   "cell_type": "code",
   "execution_count": 9,
   "metadata": {},
   "outputs": [
    {
     "data": {
      "text/plain": [
       "0        0.1754\n",
       "1       -0.0416\n",
       "2        0.0335\n",
       "3       -0.0279\n",
       "5       -0.0711\n",
       "          ...  \n",
       "31636   -0.0195\n",
       "31638   -0.0487\n",
       "31639    0.0886\n",
       "31641   -0.1224\n",
       "31643    0.0603\n",
       "Name: x_e_out [-], Length: 20673, dtype: float64"
      ]
     },
     "execution_count": 9,
     "metadata": {},
     "output_type": "execute_result"
    }
   ],
   "source": [
    "true_target = target[target.notnull()]\n",
    "true_target"
   ]
  },
  {
   "cell_type": "code",
   "execution_count": 10,
   "metadata": {},
   "outputs": [],
   "source": [
    "data = df[target.notnull()]"
   ]
  },
  {
   "cell_type": "code",
   "execution_count": 11,
   "metadata": {},
   "outputs": [],
   "source": [
    "pd.set_option('display.max_rows', 20)"
   ]
  },
  {
   "cell_type": "code",
   "execution_count": 12,
   "metadata": {},
   "outputs": [
    {
     "name": "stdout",
     "output_type": "stream",
     "text": [
      "geometry  D_e [mm]  D_h [mm]\n",
      "tube      10.3      10.3        1880\n",
      "          10.8      10.8        1790\n",
      "          4.7       4.7         1754\n",
      "          1.9       1.9         1723\n",
      "          7.7       7.7         1642\n",
      "                                ... \n",
      "          10.0      40.0           1\n",
      "annulus   12.8      42.3           1\n",
      "plate     10.8      10.8           1\n",
      "          10.0      10.0           1\n",
      "annulus   11.3      4.6            1\n",
      "Name: id, Length: 89, dtype: int64\n"
     ]
    }
   ],
   "source": [
    "print(df.groupby(['geometry', 'D_e [mm]', 'D_h [mm]'])['id'].count().sort_values(ascending=False))"
   ]
  },
  {
   "cell_type": "code",
   "execution_count": 13,
   "metadata": {},
   "outputs": [],
   "source": [
    "# print(data_raw.groupby(['geometry', 'D_e [mm]', 'D_h [mm]'])['id'].count().sort_values(ascending=False))"
   ]
  },
  {
   "cell_type": "code",
   "execution_count": 14,
   "metadata": {},
   "outputs": [],
   "source": [
    "# df_aux = pd.DataFrame(data_raw.groupby(['geometry', 'D_e [mm]', 'D_h [mm]'])['id'].count())\n",
    "# df_aux.reset_index(inplace=True)\n",
    "# sr = df.groupby(['geometry', 'D_e [mm]', 'D_h [mm]'])['id'].max()\n",
    "# sr_aux = pd.DataFrame(sr.sort_values(ascending=False).iloc[:30]).reset_index()\n",
    "# sr_aux[sr_aux[\"geometry\"]==\"tube\"].plot(y=\"D_h [mm]\", x=\"D_e [mm]\", kind=\"scatter\", figsize=(10, 10))"
   ]
  },
  {
   "cell_type": "code",
   "execution_count": 15,
   "metadata": {},
   "outputs": [
    {
     "data": {
      "text/html": [
       "<div>\n",
       "<style scoped>\n",
       "    .dataframe tbody tr th:only-of-type {\n",
       "        vertical-align: middle;\n",
       "    }\n",
       "\n",
       "    .dataframe tbody tr th {\n",
       "        vertical-align: top;\n",
       "    }\n",
       "\n",
       "    .dataframe thead th {\n",
       "        text-align: right;\n",
       "    }\n",
       "</style>\n",
       "<table border=\"1\" class=\"dataframe\">\n",
       "  <thead>\n",
       "    <tr style=\"text-align: right;\">\n",
       "      <th></th>\n",
       "      <th>id</th>\n",
       "      <th>geometry</th>\n",
       "      <th>pressure [MPa]</th>\n",
       "      <th>mass_flux [kg/m2-s]</th>\n",
       "      <th>x_e_out [-]</th>\n",
       "      <th>D_e [mm]</th>\n",
       "      <th>D_h [mm]</th>\n",
       "      <th>length [mm]</th>\n",
       "      <th>chf_exp [MW/m2]</th>\n",
       "    </tr>\n",
       "  </thead>\n",
       "  <tbody>\n",
       "    <tr>\n",
       "      <th>1</th>\n",
       "      <td>1</td>\n",
       "      <td>tube</td>\n",
       "      <td>NaN</td>\n",
       "      <td>6049.0</td>\n",
       "      <td>-0.0416</td>\n",
       "      <td>10.3</td>\n",
       "      <td>10.3</td>\n",
       "      <td>762.0</td>\n",
       "      <td>6.2</td>\n",
       "    </tr>\n",
       "    <tr>\n",
       "      <th>2</th>\n",
       "      <td>2</td>\n",
       "      <td>NaN</td>\n",
       "      <td>13.79</td>\n",
       "      <td>2034.0</td>\n",
       "      <td>0.0335</td>\n",
       "      <td>7.7</td>\n",
       "      <td>7.7</td>\n",
       "      <td>457.0</td>\n",
       "      <td>2.5</td>\n",
       "    </tr>\n",
       "    <tr>\n",
       "      <th>4</th>\n",
       "      <td>4</td>\n",
       "      <td>tube</td>\n",
       "      <td>13.79</td>\n",
       "      <td>686.0</td>\n",
       "      <td>NaN</td>\n",
       "      <td>11.1</td>\n",
       "      <td>11.1</td>\n",
       "      <td>457.0</td>\n",
       "      <td>2.8</td>\n",
       "    </tr>\n",
       "    <tr>\n",
       "      <th>6</th>\n",
       "      <td>6</td>\n",
       "      <td>NaN</td>\n",
       "      <td>6.89</td>\n",
       "      <td>549.0</td>\n",
       "      <td>0.1203</td>\n",
       "      <td>12.8</td>\n",
       "      <td>12.8</td>\n",
       "      <td>1930.0</td>\n",
       "      <td>2.6</td>\n",
       "    </tr>\n",
       "    <tr>\n",
       "      <th>7</th>\n",
       "      <td>7</td>\n",
       "      <td>tube</td>\n",
       "      <td>18.00</td>\n",
       "      <td>750.0</td>\n",
       "      <td>NaN</td>\n",
       "      <td>10.0</td>\n",
       "      <td>10.0</td>\n",
       "      <td>1650.0</td>\n",
       "      <td>2.2</td>\n",
       "    </tr>\n",
       "    <tr>\n",
       "      <th>...</th>\n",
       "      <td>...</td>\n",
       "      <td>...</td>\n",
       "      <td>...</td>\n",
       "      <td>...</td>\n",
       "      <td>...</td>\n",
       "      <td>...</td>\n",
       "      <td>...</td>\n",
       "      <td>...</td>\n",
       "      <td>...</td>\n",
       "    </tr>\n",
       "    <tr>\n",
       "      <th>31638</th>\n",
       "      <td>31638</td>\n",
       "      <td>tube</td>\n",
       "      <td>NaN</td>\n",
       "      <td>3648.0</td>\n",
       "      <td>-0.0487</td>\n",
       "      <td>4.7</td>\n",
       "      <td>4.7</td>\n",
       "      <td>318.0</td>\n",
       "      <td>9.0</td>\n",
       "    </tr>\n",
       "    <tr>\n",
       "      <th>31640</th>\n",
       "      <td>31640</td>\n",
       "      <td>NaN</td>\n",
       "      <td>13.79</td>\n",
       "      <td>NaN</td>\n",
       "      <td>NaN</td>\n",
       "      <td>4.7</td>\n",
       "      <td>4.7</td>\n",
       "      <td>NaN</td>\n",
       "      <td>3.9</td>\n",
       "    </tr>\n",
       "    <tr>\n",
       "      <th>31641</th>\n",
       "      <td>31641</td>\n",
       "      <td>NaN</td>\n",
       "      <td>18.27</td>\n",
       "      <td>658.0</td>\n",
       "      <td>-0.1224</td>\n",
       "      <td>3.0</td>\n",
       "      <td>3.0</td>\n",
       "      <td>150.0</td>\n",
       "      <td>2.3</td>\n",
       "    </tr>\n",
       "    <tr>\n",
       "      <th>31642</th>\n",
       "      <td>31642</td>\n",
       "      <td>tube</td>\n",
       "      <td>6.89</td>\n",
       "      <td>3825.0</td>\n",
       "      <td>NaN</td>\n",
       "      <td>23.6</td>\n",
       "      <td>23.6</td>\n",
       "      <td>1972.0</td>\n",
       "      <td>3.7</td>\n",
       "    </tr>\n",
       "    <tr>\n",
       "      <th>31643</th>\n",
       "      <td>31643</td>\n",
       "      <td>tube</td>\n",
       "      <td>6.89</td>\n",
       "      <td>7568.0</td>\n",
       "      <td>0.0603</td>\n",
       "      <td>12.8</td>\n",
       "      <td>12.8</td>\n",
       "      <td>1930.0</td>\n",
       "      <td>3.3</td>\n",
       "    </tr>\n",
       "  </tbody>\n",
       "</table>\n",
       "<p>18095 rows × 9 columns</p>\n",
       "</div>"
      ],
      "text/plain": [
       "          id geometry  pressure [MPa]  mass_flux [kg/m2-s]  x_e_out [-]  \\\n",
       "1          1     tube             NaN               6049.0      -0.0416   \n",
       "2          2      NaN           13.79               2034.0       0.0335   \n",
       "4          4     tube           13.79                686.0          NaN   \n",
       "6          6      NaN            6.89                549.0       0.1203   \n",
       "7          7     tube           18.00                750.0          NaN   \n",
       "...      ...      ...             ...                  ...          ...   \n",
       "31638  31638     tube             NaN               3648.0      -0.0487   \n",
       "31640  31640      NaN           13.79                  NaN          NaN   \n",
       "31641  31641      NaN           18.27                658.0      -0.1224   \n",
       "31642  31642     tube            6.89               3825.0          NaN   \n",
       "31643  31643     tube            6.89               7568.0       0.0603   \n",
       "\n",
       "       D_e [mm]  D_h [mm]  length [mm]  chf_exp [MW/m2]  \n",
       "1          10.3      10.3        762.0              6.2  \n",
       "2           7.7       7.7        457.0              2.5  \n",
       "4          11.1      11.1        457.0              2.8  \n",
       "6          12.8      12.8       1930.0              2.6  \n",
       "7          10.0      10.0       1650.0              2.2  \n",
       "...         ...       ...          ...              ...  \n",
       "31638       4.7       4.7        318.0              9.0  \n",
       "31640       4.7       4.7          NaN              3.9  \n",
       "31641       3.0       3.0        150.0              2.3  \n",
       "31642      23.6      23.6       1972.0              3.7  \n",
       "31643      12.8      12.8       1930.0              3.3  \n",
       "\n",
       "[18095 rows x 9 columns]"
      ]
     },
     "execution_count": 15,
     "metadata": {},
     "output_type": "execute_result"
    }
   ],
   "source": [
    "df[df[\"D_h [mm]\"]==df[\"D_e [mm]\"]]"
   ]
  },
  {
   "cell_type": "code",
   "execution_count": 16,
   "metadata": {},
   "outputs": [
    {
     "data": {
      "text/plain": [
       "0        10.8\n",
       "5         1.9\n",
       "12       12.8\n",
       "18       10.8\n",
       "34        7.8\n",
       "         ... \n",
       "31622     1.9\n",
       "31629     4.7\n",
       "31636     1.9\n",
       "31637    11.1\n",
       "31639     7.8\n",
       "Name: D_h [mm], Length: 4673, dtype: float64"
      ]
     },
     "execution_count": 16,
     "metadata": {},
     "output_type": "execute_result"
    }
   ],
   "source": [
    "df[df[\"D_e [mm]\"].isnull()][\"D_h [mm]\"]"
   ]
  },
  {
   "cell_type": "code",
   "execution_count": 17,
   "metadata": {},
   "outputs": [
    {
     "data": {
      "text/plain": [
       "array([12.7, 10. ,  4.7,  1.9,  5.6,  3. ,  7.7,  5. , 23.6, 10.8, 11.5,\n",
       "       15. , 10.3,  7.8, 11.1,  9.5,  4.6,  6.4,  8.5,  8. , 12.8,  9.3,\n",
       "        1. ,  5.7, 22.2,  3.6, 37.5, 10.4,  1.1, 12.4, 23.5, 10.1, 19.8,\n",
       "       10.7,  1.7, 23.7, 13.3])"
      ]
     },
     "execution_count": 17,
     "metadata": {},
     "output_type": "execute_result"
    }
   ],
   "source": [
    "df[df[\"D_h [mm]\"].isnull()][\"D_e [mm]\"].unique()"
   ]
  },
  {
   "cell_type": "code",
   "execution_count": 18,
   "metadata": {},
   "outputs": [
    {
     "name": "stderr",
     "output_type": "stream",
     "text": [
      "c:\\Users\\gylmo\\AppData\\Local\\Programs\\Python\\Python37\\lib\\site-packages\\pandas\\util\\_decorators.py:311: SettingWithCopyWarning: \n",
      "A value is trying to be set on a copy of a slice from a DataFrame\n",
      "\n",
      "See the caveats in the documentation: https://pandas.pydata.org/pandas-docs/stable/user_guide/indexing.html#returning-a-view-versus-a-copy\n",
      "  return func(*args, **kwargs)\n"
     ]
    },
    {
     "data": {
      "text/html": [
       "<div>\n",
       "<style scoped>\n",
       "    .dataframe tbody tr th:only-of-type {\n",
       "        vertical-align: middle;\n",
       "    }\n",
       "\n",
       "    .dataframe tbody tr th {\n",
       "        vertical-align: top;\n",
       "    }\n",
       "\n",
       "    .dataframe thead th {\n",
       "        text-align: right;\n",
       "    }\n",
       "</style>\n",
       "<table border=\"1\" class=\"dataframe\">\n",
       "  <thead>\n",
       "    <tr style=\"text-align: right;\">\n",
       "      <th></th>\n",
       "      <th>id</th>\n",
       "      <th>geometry</th>\n",
       "      <th>pressure [MPa]</th>\n",
       "      <th>mass_flux [kg/m2-s]</th>\n",
       "      <th>x_e_out [-]</th>\n",
       "      <th>D_e [mm]</th>\n",
       "      <th>D_h [mm]</th>\n",
       "      <th>length [mm]</th>\n",
       "      <th>chf_exp [MW/m2]</th>\n",
       "    </tr>\n",
       "  </thead>\n",
       "  <tbody>\n",
       "    <tr>\n",
       "      <th>4476</th>\n",
       "      <td>4476</td>\n",
       "      <td>plate</td>\n",
       "      <td>15.51</td>\n",
       "      <td>2984.0</td>\n",
       "      <td>-0.0109</td>\n",
       "      <td>1.9</td>\n",
       "      <td>1.9</td>\n",
       "      <td>10.0</td>\n",
       "      <td>7.6</td>\n",
       "    </tr>\n",
       "    <tr>\n",
       "      <th>6412</th>\n",
       "      <td>6412</td>\n",
       "      <td>plate</td>\n",
       "      <td>15.17</td>\n",
       "      <td>1335.0</td>\n",
       "      <td>-0.0187</td>\n",
       "      <td>9.5</td>\n",
       "      <td>9.5</td>\n",
       "      <td>1836.0</td>\n",
       "      <td>2.1</td>\n",
       "    </tr>\n",
       "    <tr>\n",
       "      <th>16858</th>\n",
       "      <td>16858</td>\n",
       "      <td>plate</td>\n",
       "      <td>0.51</td>\n",
       "      <td>2000.0</td>\n",
       "      <td>-0.0407</td>\n",
       "      <td>1.9</td>\n",
       "      <td>1.9</td>\n",
       "      <td>10.0</td>\n",
       "      <td>8.1</td>\n",
       "    </tr>\n",
       "    <tr>\n",
       "      <th>28605</th>\n",
       "      <td>28605</td>\n",
       "      <td>plate</td>\n",
       "      <td>0.51</td>\n",
       "      <td>5600.0</td>\n",
       "      <td>-0.0373</td>\n",
       "      <td>15.9</td>\n",
       "      <td>15.9</td>\n",
       "      <td>10.0</td>\n",
       "      <td>14.7</td>\n",
       "    </tr>\n",
       "  </tbody>\n",
       "</table>\n",
       "</div>"
      ],
      "text/plain": [
       "          id geometry  pressure [MPa]  mass_flux [kg/m2-s]  x_e_out [-]  \\\n",
       "4476    4476    plate           15.51               2984.0      -0.0109   \n",
       "6412    6412    plate           15.17               1335.0      -0.0187   \n",
       "16858  16858    plate            0.51               2000.0      -0.0407   \n",
       "28605  28605    plate            0.51               5600.0      -0.0373   \n",
       "\n",
       "       D_e [mm]  D_h [mm]  length [mm]  chf_exp [MW/m2]  \n",
       "4476        1.9       1.9         10.0              7.6  \n",
       "6412        9.5       9.5       1836.0              2.1  \n",
       "16858       1.9       1.9         10.0              8.1  \n",
       "28605      15.9      15.9         10.0             14.7  "
      ]
     },
     "execution_count": 18,
     "metadata": {},
     "output_type": "execute_result"
    }
   ],
   "source": [
    "df_aux = df[df[\"geometry\"]==\"plate\"]\n",
    "df_aux.dropna(inplace=True)\n",
    "df_aux[df_aux [\"D_e [mm]\"] == df_aux [\"D_h [mm]\"]]"
   ]
  },
  {
   "cell_type": "code",
   "execution_count": 19,
   "metadata": {},
   "outputs": [
    {
     "name": "stdout",
     "output_type": "stream",
     "text": [
      "tube error: 0.0051, annulus error: 0.012, plate error: 0.024\n"
     ]
    }
   ],
   "source": [
    "tube_error = 32/(6296+32)\n",
    "annulus_error = 16/(1298+16)\n",
    "plate_error = 4/(164+4)\n",
    "\n",
    "print(f\"tube error: {tube_error:.2}, annulus error: {annulus_error:.2}, plate error: {plate_error:.2}\")"
   ]
  },
  {
   "attachments": {},
   "cell_type": "markdown",
   "metadata": {},
   "source": [
    "Sabiendo esto, imputamos geometry, D_e y D_h sabiendo que: \n",
    "- si geometry = tube entonces D_e = D_h\n",
    "- si geometry = plate entonces D_e = 15 | D_h = 120\n",
    "- si geometry = annulus entonces LinearRegression"
   ]
  },
  {
   "cell_type": "code",
   "execution_count": 20,
   "metadata": {},
   "outputs": [
    {
     "data": {
      "text/html": [
       "<div>\n",
       "<style scoped>\n",
       "    .dataframe tbody tr th:only-of-type {\n",
       "        vertical-align: middle;\n",
       "    }\n",
       "\n",
       "    .dataframe tbody tr th {\n",
       "        vertical-align: top;\n",
       "    }\n",
       "\n",
       "    .dataframe thead th {\n",
       "        text-align: right;\n",
       "    }\n",
       "</style>\n",
       "<table border=\"1\" class=\"dataframe\">\n",
       "  <thead>\n",
       "    <tr style=\"text-align: right;\">\n",
       "      <th></th>\n",
       "      <th>id</th>\n",
       "      <th>geometry</th>\n",
       "      <th>pressure [MPa]</th>\n",
       "      <th>mass_flux [kg/m2-s]</th>\n",
       "      <th>x_e_out [-]</th>\n",
       "      <th>D_e [mm]</th>\n",
       "      <th>D_h [mm]</th>\n",
       "      <th>length [mm]</th>\n",
       "      <th>chf_exp [MW/m2]</th>\n",
       "    </tr>\n",
       "  </thead>\n",
       "  <tbody>\n",
       "    <tr>\n",
       "      <th>0</th>\n",
       "      <td>0</td>\n",
       "      <td>tube</td>\n",
       "      <td>7.00</td>\n",
       "      <td>3770.0</td>\n",
       "      <td>0.1754</td>\n",
       "      <td>NaN</td>\n",
       "      <td>10.8</td>\n",
       "      <td>432.0</td>\n",
       "      <td>3.6</td>\n",
       "    </tr>\n",
       "    <tr>\n",
       "      <th>1</th>\n",
       "      <td>1</td>\n",
       "      <td>tube</td>\n",
       "      <td>NaN</td>\n",
       "      <td>6049.0</td>\n",
       "      <td>-0.0416</td>\n",
       "      <td>10.3</td>\n",
       "      <td>10.3</td>\n",
       "      <td>762.0</td>\n",
       "      <td>6.2</td>\n",
       "    </tr>\n",
       "    <tr>\n",
       "      <th>2</th>\n",
       "      <td>2</td>\n",
       "      <td>tube</td>\n",
       "      <td>13.79</td>\n",
       "      <td>2034.0</td>\n",
       "      <td>0.0335</td>\n",
       "      <td>7.7</td>\n",
       "      <td>7.7</td>\n",
       "      <td>457.0</td>\n",
       "      <td>2.5</td>\n",
       "    </tr>\n",
       "    <tr>\n",
       "      <th>3</th>\n",
       "      <td>3</td>\n",
       "      <td>tube</td>\n",
       "      <td>13.79</td>\n",
       "      <td>3679.0</td>\n",
       "      <td>-0.0279</td>\n",
       "      <td>5.6</td>\n",
       "      <td>15.2</td>\n",
       "      <td>2134.0</td>\n",
       "      <td>3.0</td>\n",
       "    </tr>\n",
       "    <tr>\n",
       "      <th>4</th>\n",
       "      <td>4</td>\n",
       "      <td>tube</td>\n",
       "      <td>13.79</td>\n",
       "      <td>686.0</td>\n",
       "      <td>NaN</td>\n",
       "      <td>11.1</td>\n",
       "      <td>11.1</td>\n",
       "      <td>457.0</td>\n",
       "      <td>2.8</td>\n",
       "    </tr>\n",
       "    <tr>\n",
       "      <th>...</th>\n",
       "      <td>...</td>\n",
       "      <td>...</td>\n",
       "      <td>...</td>\n",
       "      <td>...</td>\n",
       "      <td>...</td>\n",
       "      <td>...</td>\n",
       "      <td>...</td>\n",
       "      <td>...</td>\n",
       "      <td>...</td>\n",
       "    </tr>\n",
       "    <tr>\n",
       "      <th>31639</th>\n",
       "      <td>31639</td>\n",
       "      <td>NaN</td>\n",
       "      <td>NaN</td>\n",
       "      <td>1736.0</td>\n",
       "      <td>0.0886</td>\n",
       "      <td>NaN</td>\n",
       "      <td>7.8</td>\n",
       "      <td>591.0</td>\n",
       "      <td>2.3</td>\n",
       "    </tr>\n",
       "    <tr>\n",
       "      <th>31640</th>\n",
       "      <td>31640</td>\n",
       "      <td>tube</td>\n",
       "      <td>13.79</td>\n",
       "      <td>NaN</td>\n",
       "      <td>NaN</td>\n",
       "      <td>4.7</td>\n",
       "      <td>4.7</td>\n",
       "      <td>NaN</td>\n",
       "      <td>3.9</td>\n",
       "    </tr>\n",
       "    <tr>\n",
       "      <th>31641</th>\n",
       "      <td>31641</td>\n",
       "      <td>tube</td>\n",
       "      <td>18.27</td>\n",
       "      <td>658.0</td>\n",
       "      <td>-0.1224</td>\n",
       "      <td>3.0</td>\n",
       "      <td>3.0</td>\n",
       "      <td>150.0</td>\n",
       "      <td>2.3</td>\n",
       "    </tr>\n",
       "    <tr>\n",
       "      <th>31642</th>\n",
       "      <td>31642</td>\n",
       "      <td>tube</td>\n",
       "      <td>6.89</td>\n",
       "      <td>3825.0</td>\n",
       "      <td>NaN</td>\n",
       "      <td>23.6</td>\n",
       "      <td>23.6</td>\n",
       "      <td>1972.0</td>\n",
       "      <td>3.7</td>\n",
       "    </tr>\n",
       "    <tr>\n",
       "      <th>31643</th>\n",
       "      <td>31643</td>\n",
       "      <td>tube</td>\n",
       "      <td>6.89</td>\n",
       "      <td>7568.0</td>\n",
       "      <td>0.0603</td>\n",
       "      <td>12.8</td>\n",
       "      <td>12.8</td>\n",
       "      <td>1930.0</td>\n",
       "      <td>3.3</td>\n",
       "    </tr>\n",
       "  </tbody>\n",
       "</table>\n",
       "<p>30829 rows × 9 columns</p>\n",
       "</div>"
      ],
      "text/plain": [
       "          id geometry  pressure [MPa]  mass_flux [kg/m2-s]  x_e_out [-]  \\\n",
       "0          0     tube            7.00               3770.0       0.1754   \n",
       "1          1     tube             NaN               6049.0      -0.0416   \n",
       "2          2     tube           13.79               2034.0       0.0335   \n",
       "3          3     tube           13.79               3679.0      -0.0279   \n",
       "4          4     tube           13.79                686.0          NaN   \n",
       "...      ...      ...             ...                  ...          ...   \n",
       "31639  31639      NaN             NaN               1736.0       0.0886   \n",
       "31640  31640     tube           13.79                  NaN          NaN   \n",
       "31641  31641     tube           18.27                658.0      -0.1224   \n",
       "31642  31642     tube            6.89               3825.0          NaN   \n",
       "31643  31643     tube            6.89               7568.0       0.0603   \n",
       "\n",
       "       D_e [mm]  D_h [mm]  length [mm]  chf_exp [MW/m2]  \n",
       "0           NaN      10.8        432.0              3.6  \n",
       "1          10.3      10.3        762.0              6.2  \n",
       "2           7.7       7.7        457.0              2.5  \n",
       "3           5.6      15.2       2134.0              3.0  \n",
       "4          11.1      11.1        457.0              2.8  \n",
       "...         ...       ...          ...              ...  \n",
       "31639       NaN       7.8        591.0              2.3  \n",
       "31640       4.7       4.7          NaN              3.9  \n",
       "31641       3.0       3.0        150.0              2.3  \n",
       "31642      23.6      23.6       1972.0              3.7  \n",
       "31643      12.8      12.8       1930.0              3.3  \n",
       "\n",
       "[30829 rows x 9 columns]"
      ]
     },
     "execution_count": 20,
     "metadata": {},
     "output_type": "execute_result"
    }
   ],
   "source": [
    "def value_changer(row):   \n",
    "    if row[\"D_h [mm]\"] == 120 or row[\"D_e [mm]\"] == 15:\n",
    "        row[\"geometry\"] = \"plate\"\n",
    "    elif row[\"D_e [mm]\"] == row[\"D_e [mm]\"]:\n",
    "        row[\"geometry\"] = \"tube\"\n",
    "    elif row[\"geometry\"] == \"tube\":\n",
    "        row[\"D_e [mm]\"] = row[\"D_e [mm]\"]\n",
    "    elif row[\"geometry\"] == \"plate\":\n",
    "        row[\"D_e [mm]\"] = 15\n",
    "        row[\"D_h [mm]\"] = 120\n",
    "    return row\n",
    "\n",
    "df.apply(value_changer, axis=1)"
   ]
  },
  {
   "cell_type": "code",
   "execution_count": 22,
   "metadata": {},
   "outputs": [
    {
     "name": "stdout",
     "output_type": "stream",
     "text": [
      "<class 'pandas.core.frame.DataFrame'>\n",
      "Int64Index: 30829 entries, 0 to 31643\n",
      "Data columns (total 9 columns):\n",
      " #   Column               Non-Null Count  Dtype  \n",
      "---  ------               --------------  -----  \n",
      " 0   id                   30829 non-null  int64  \n",
      " 1   geometry             25475 non-null  object \n",
      " 2   pressure [MPa]       26504 non-null  float64\n",
      " 3   mass_flux [kg/m2-s]  26144 non-null  float64\n",
      " 4   x_e_out [-]          20673 non-null  float64\n",
      " 5   D_e [mm]             26156 non-null  float64\n",
      " 6   D_h [mm]             27055 non-null  float64\n",
      " 7   length [mm]          26202 non-null  float64\n",
      " 8   chf_exp [MW/m2]      30829 non-null  float64\n",
      "dtypes: float64(7), int64(1), object(1)\n",
      "memory usage: 2.4+ MB\n"
     ]
    }
   ],
   "source": [
    "df.info()"
   ]
  },
  {
   "cell_type": "code",
   "execution_count": 115,
   "metadata": {},
   "outputs": [
    {
     "name": "stdout",
     "output_type": "stream",
     "text": [
      "geometry  D_e [mm]  D_h [mm]\n",
      "tube      10.3      10.3        1880\n",
      "          10.8      10.8        1790\n",
      "          4.7       4.7         1754\n",
      "          1.9       1.9         1723\n",
      "          7.7       7.7         1642\n",
      "annulus   5.6       15.2        1053\n",
      "tube      7.8       7.8          913\n",
      "          10.0      10.0         753\n",
      "          9.5       9.5          604\n",
      "annulus   12.7      42.3         585\n",
      "tube      11.1      11.1         537\n",
      "          23.6      23.6         445\n",
      "          11.5      11.5         433\n",
      "annulus   12.7      38.1         430\n",
      "plate     15.0      120.0        420\n",
      "tube      4.6       4.6          414\n",
      "          5.6       5.6          388\n",
      "          3.0       3.0          328\n",
      "annulus   6.4       15.9         293\n",
      "tube      5.7       5.7          269\n",
      "annulus   8.5       22.3         255\n",
      "tube      12.8      12.8         255\n",
      "          37.5      37.5         194\n",
      "          3.6       3.6          186\n",
      "annulus   8.5       24.6         168\n",
      "          5.0       13.3         128\n",
      "tube      1.0       1.0          112\n",
      "          9.3       9.3          109\n",
      "annulus   22.2      96.3          66\n",
      "tube      12.4      12.4          60\n",
      "annulus   4.6       11.3          38\n",
      "tube      15.0      120.0         31\n",
      "          5.6       15.2          28\n",
      "          19.8      19.8          26\n",
      "          8.0       8.0           21\n",
      "annulus   5.6       5.6           14\n",
      "tube      1.1       1.1           11\n",
      "          23.5      23.5           8\n",
      "annulus   15.0      120.0          7\n",
      "          5.6       15.9           6\n",
      "tube      1.7       1.7            6\n",
      "          12.7      42.3           5\n",
      "          10.1      10.1           5\n",
      "          8.5       22.3           4\n",
      "          5.0       13.3           4\n",
      "          10.5      10.5           4\n",
      "          12.7      38.1           3\n",
      "          6.4       15.9           3\n",
      "          22.2      22.2           3\n",
      "          10.4      10.4           3\n",
      "          5.6       9.5            2\n",
      "annulus   13.3      13.3           2\n",
      "          11.5      11.5           2\n",
      "          12.7      15.9           2\n",
      "plate     1.9       1.9            2\n",
      "annulus   12.7      12.7           2\n",
      "          15.0      15.0           2\n",
      "tube      22.6      22.6           1\n",
      "          22.2      96.3           1\n",
      "annulus   15.0      15.2           1\n",
      "plate     1.0       1.0            1\n",
      "tube      15.2      5.6            1\n",
      "plate     6.4       15.9           1\n",
      "annulus   4.7       11.3           1\n",
      "tube      15.0      5.6            1\n",
      "          13.3      9.5            1\n",
      "plate     5.0       13.3           1\n",
      "          5.6       15.0           1\n",
      "                    15.9           1\n",
      "          5.7       15.9           1\n",
      "annulus   5.0       15.0           1\n",
      "plate     9.5       9.5            1\n",
      "annulus   5.6       13.3           1\n",
      "          10.5      10.5           1\n",
      "          12.4      12.4           1\n",
      "tube      5.6       25.6           1\n",
      "annulus   15.0      13.3           1\n",
      "tube      6.4       6.4            1\n",
      "          4.6       11.3           1\n",
      "annulus   10.8      10.8           1\n",
      "          4.6       14.8           1\n",
      "tube      5.6       13.3           1\n",
      "annulus   10.0      10.0           1\n",
      "plate     15.9      15.9           1\n",
      "tube      10.0      40.0           1\n",
      "annulus   12.8      42.3           1\n",
      "plate     10.8      10.8           1\n",
      "          10.0      10.0           1\n",
      "annulus   11.3      4.6            1\n",
      "Name: id, dtype: int64\n"
     ]
    }
   ],
   "source": [
    "print(df.groupby(['geometry', 'D_e [mm]', 'D_h [mm]'])['id'].count().sort_values(ascending=False))"
   ]
  },
  {
   "cell_type": "code",
   "execution_count": 6,
   "metadata": {},
   "outputs": [
    {
     "data": {
      "image/png": "[encoded data removed]",
      "text/plain": [
       "<Figure size 1000x600 with 2 Axes>"
      ]
     },
     "metadata": {},
     "output_type": "display_data"
    }
   ],
   "source": [
    "def plot_null_heatmap(df, cols_sort=None):\n",
    "    plt.figure(figsize=(10, 6))\n",
    "    if cols_sort is not None:\n",
    "        sns.heatmap(df.isnull().sort_values(by=cols_sort), cbar=True)\n",
    "    else:\n",
    "        sns.heatmap(df.isnull(), cbar=True)\n",
    "    plt.show()\n",
    "plot_null_heatmap(data_raw.loc[:,[\"D_h [mm]\", \"D_e [mm]\", \"geometry\"]], cols_sort=[\"D_h [mm]\", \"D_e [mm]\", \"geometry\"])"
   ]
  }
 ],
 "metadata": {
  "kernelspec": {
   "display_name": "Python 3",
   "language": "python",
   "name": "python3"
  },
  "language_info": {
   "codemirror_mode": {
    "name": "ipython",
    "version": 3
   },
   "file_extension": ".py",
   "mimetype": "text/x-python",
   "name": "python",
   "nbconvert_exporter": "python",
   "pygments_lexer": "ipython3",
   "version": "3.7.4"
  },
  "orig_nbformat": 4
 },
 "nbformat": 4,
 "nbformat_minor": 2
}
