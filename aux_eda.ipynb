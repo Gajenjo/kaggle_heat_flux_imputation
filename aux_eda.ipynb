{
 "cells": [
  {
   "cell_type": "code",
   "execution_count": 1,
   "metadata": {},
   "outputs": [],
   "source": [
    "import pandas as pd\n",
    "import numpy as np\n",
    "import seaborn as sns\n",
    "import matplotlib.pyplot as plt\n",
    "\n",
    "from sklearn.preprocessing import StandardScaler, PolynomialFeatures\n",
    "from sklearn.svm import LinearSVR, SVC, SVR\n",
    "from sklearn.linear_model import LinearRegression, Lasso, Ridge, ElasticNet\n",
    "from sklearn.pipeline import Pipeline\n",
    "from sklearn.neighbors import KNeighborsRegressor\n",
    "from sklearn.tree import DecisionTreeRegressor, plot_tree\n",
    "from sklearn.ensemble import RandomForestRegressor, GradientBoostingRegressor, VotingRegressor\n",
    "import xgboost"
   ]
  },
  {
   "cell_type": "code",
   "execution_count": 2,
   "metadata": {},
   "outputs": [],
   "source": [
    "df = pd.read_csv(\"./data/data.csv\")\n",
    "data = df.copy()"
   ]
  },
  {
   "cell_type": "code",
   "execution_count": 13,
   "metadata": {},
   "outputs": [
    {
     "name": "stdout",
     "output_type": "stream",
     "text": [
      "<class 'pandas.core.frame.DataFrame'>\n",
      "RangeIndex: 31644 entries, 0 to 31643\n",
      "Data columns (total 10 columns):\n",
      " #   Column               Non-Null Count  Dtype  \n",
      "---  ------               --------------  -----  \n",
      " 0   id                   31644 non-null  int64  \n",
      " 1   author               26620 non-null  object \n",
      " 2   geometry             26144 non-null  object \n",
      " 3   pressure [MPa]       27192 non-null  float64\n",
      " 4   mass_flux [kg/m2-s]  26853 non-null  float64\n",
      " 5   x_e_out [-]          21229 non-null  float64\n",
      " 6   D_e [mm]             26156 non-null  float64\n",
      " 7   D_h [mm]             27055 non-null  float64\n",
      " 8   length [mm]          26885 non-null  float64\n",
      " 9   chf_exp [MW/m2]      31644 non-null  float64\n",
      "dtypes: float64(7), int64(1), object(2)\n",
      "memory usage: 2.4+ MB\n"
     ]
    }
   ],
   "source": [
    "data.info()"
   ]
  },
  {
   "cell_type": "code",
   "execution_count": 9,
   "metadata": {},
   "outputs": [
    {
     "name": "stderr",
     "output_type": "stream",
     "text": [
      "c:\\Users\\gylmo\\AppData\\Local\\Programs\\Python\\Python37\\lib\\site-packages\\pandas\\core\\frame.py:4913: SettingWithCopyWarning: \n",
      "A value is trying to be set on a copy of a slice from a DataFrame\n",
      "\n",
      "See the caveats in the documentation: https://pandas.pydata.org/pandas-docs/stable/user_guide/indexing.html#returning-a-view-versus-a-copy\n",
      "  errors=errors,\n"
     ]
    }
   ],
   "source": [
    "data_clean = data.dropna()\n",
    "data_clean.drop(columns=\"id\", inplace=True)"
   ]
  },
  {
   "cell_type": "code",
   "execution_count": 12,
   "metadata": {},
   "outputs": [
    {
     "name": "stdout",
     "output_type": "stream",
     "text": [
      "<class 'pandas.core.frame.DataFrame'>\n",
      "Int64Index: 6538 entries, 3 to 31635\n",
      "Data columns (total 9 columns):\n",
      " #   Column               Non-Null Count  Dtype  \n",
      "---  ------               --------------  -----  \n",
      " 0   author               6538 non-null   object \n",
      " 1   geometry             6538 non-null   object \n",
      " 2   pressure [MPa]       6538 non-null   float64\n",
      " 3   mass_flux [kg/m2-s]  6538 non-null   float64\n",
      " 4   x_e_out [-]          6538 non-null   float64\n",
      " 5   D_e [mm]             6538 non-null   float64\n",
      " 6   D_h [mm]             6538 non-null   float64\n",
      " 7   length [mm]          6538 non-null   float64\n",
      " 8   chf_exp [MW/m2]      6538 non-null   float64\n",
      "dtypes: float64(7), object(2)\n",
      "memory usage: 510.8+ KB\n"
     ]
    }
   ],
   "source": [
    "data_clean.info()"
   ]
  },
  {
   "cell_type": "code",
   "execution_count": 10,
   "metadata": {},
   "outputs": [
    {
     "data": {
      "text/html": [
       "<div>\n",
       "<style scoped>\n",
       "    .dataframe tbody tr th:only-of-type {\n",
       "        vertical-align: middle;\n",
       "    }\n",
       "\n",
       "    .dataframe tbody tr th {\n",
       "        vertical-align: top;\n",
       "    }\n",
       "\n",
       "    .dataframe thead th {\n",
       "        text-align: right;\n",
       "    }\n",
       "</style>\n",
       "<table border=\"1\" class=\"dataframe\">\n",
       "  <thead>\n",
       "    <tr style=\"text-align: right;\">\n",
       "      <th></th>\n",
       "      <th>pressure [MPa]</th>\n",
       "      <th>mass_flux [kg/m2-s]</th>\n",
       "      <th>x_e_out [-]</th>\n",
       "      <th>D_e [mm]</th>\n",
       "      <th>D_h [mm]</th>\n",
       "      <th>length [mm]</th>\n",
       "      <th>chf_exp [MW/m2]</th>\n",
       "    </tr>\n",
       "  </thead>\n",
       "  <tbody>\n",
       "    <tr>\n",
       "      <th>count</th>\n",
       "      <td>6538.000000</td>\n",
       "      <td>6538.000000</td>\n",
       "      <td>6538.000000</td>\n",
       "      <td>6538.000000</td>\n",
       "      <td>6538.000000</td>\n",
       "      <td>6538.00000</td>\n",
       "      <td>6538.000000</td>\n",
       "    </tr>\n",
       "    <tr>\n",
       "      <th>mean</th>\n",
       "      <td>10.678071</td>\n",
       "      <td>3061.074641</td>\n",
       "      <td>-0.000897</td>\n",
       "      <td>8.616779</td>\n",
       "      <td>14.006256</td>\n",
       "      <td>838.18446</td>\n",
       "      <td>3.807250</td>\n",
       "    </tr>\n",
       "    <tr>\n",
       "      <th>std</th>\n",
       "      <td>4.259407</td>\n",
       "      <td>1770.709688</td>\n",
       "      <td>0.102557</td>\n",
       "      <td>5.170097</td>\n",
       "      <td>19.345388</td>\n",
       "      <td>671.75760</td>\n",
       "      <td>1.935137</td>\n",
       "    </tr>\n",
       "    <tr>\n",
       "      <th>min</th>\n",
       "      <td>0.100000</td>\n",
       "      <td>0.000000</td>\n",
       "      <td>-0.866700</td>\n",
       "      <td>1.000000</td>\n",
       "      <td>1.000000</td>\n",
       "      <td>10.00000</td>\n",
       "      <td>0.800000</td>\n",
       "    </tr>\n",
       "    <tr>\n",
       "      <th>25%</th>\n",
       "      <td>6.890000</td>\n",
       "      <td>1505.000000</td>\n",
       "      <td>-0.047200</td>\n",
       "      <td>5.000000</td>\n",
       "      <td>5.600000</td>\n",
       "      <td>318.00000</td>\n",
       "      <td>2.400000</td>\n",
       "    </tr>\n",
       "    <tr>\n",
       "      <th>50%</th>\n",
       "      <td>11.070000</td>\n",
       "      <td>2730.000000</td>\n",
       "      <td>0.004300</td>\n",
       "      <td>7.800000</td>\n",
       "      <td>10.000000</td>\n",
       "      <td>610.00000</td>\n",
       "      <td>3.500000</td>\n",
       "    </tr>\n",
       "    <tr>\n",
       "      <th>75%</th>\n",
       "      <td>13.790000</td>\n",
       "      <td>4069.000000</td>\n",
       "      <td>0.066875</td>\n",
       "      <td>10.800000</td>\n",
       "      <td>11.500000</td>\n",
       "      <td>914.00000</td>\n",
       "      <td>4.700000</td>\n",
       "    </tr>\n",
       "    <tr>\n",
       "      <th>max</th>\n",
       "      <td>20.680000</td>\n",
       "      <td>7975.000000</td>\n",
       "      <td>0.220100</td>\n",
       "      <td>37.500000</td>\n",
       "      <td>120.000000</td>\n",
       "      <td>3048.00000</td>\n",
       "      <td>19.300000</td>\n",
       "    </tr>\n",
       "  </tbody>\n",
       "</table>\n",
       "</div>"
      ],
      "text/plain": [
       "       pressure [MPa]  mass_flux [kg/m2-s]  x_e_out [-]     D_e [mm]  \\\n",
       "count     6538.000000          6538.000000  6538.000000  6538.000000   \n",
       "mean        10.678071          3061.074641    -0.000897     8.616779   \n",
       "std          4.259407          1770.709688     0.102557     5.170097   \n",
       "min          0.100000             0.000000    -0.866700     1.000000   \n",
       "25%          6.890000          1505.000000    -0.047200     5.000000   \n",
       "50%         11.070000          2730.000000     0.004300     7.800000   \n",
       "75%         13.790000          4069.000000     0.066875    10.800000   \n",
       "max         20.680000          7975.000000     0.220100    37.500000   \n",
       "\n",
       "          D_h [mm]  length [mm]  chf_exp [MW/m2]  \n",
       "count  6538.000000   6538.00000      6538.000000  \n",
       "mean     14.006256    838.18446         3.807250  \n",
       "std      19.345388    671.75760         1.935137  \n",
       "min       1.000000     10.00000         0.800000  \n",
       "25%       5.600000    318.00000         2.400000  \n",
       "50%      10.000000    610.00000         3.500000  \n",
       "75%      11.500000    914.00000         4.700000  \n",
       "max     120.000000   3048.00000        19.300000  "
      ]
     },
     "execution_count": 10,
     "metadata": {},
     "output_type": "execute_result"
    }
   ],
   "source": [
    "data_clean.describe()"
   ]
  }
 ],
 "metadata": {
  "kernelspec": {
   "display_name": "Python 3",
   "language": "python",
   "name": "python3"
  },
  "language_info": {
   "codemirror_mode": {
    "name": "ipython",
    "version": 3
   },
   "file_extension": ".py",
   "mimetype": "text/x-python",
   "name": "python",
   "nbconvert_exporter": "python",
   "pygments_lexer": "ipython3",
   "version": "3.7.4"
  },
  "orig_nbformat": 4
 },
 "nbformat": 4,
 "nbformat_minor": 2
}
