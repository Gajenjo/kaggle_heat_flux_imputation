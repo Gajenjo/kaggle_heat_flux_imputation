{
 "cells": [
  {
   "cell_type": "code",
   "execution_count": 144,
   "metadata": {},
   "outputs": [],
   "source": [
    "import pandas as pd\n",
    "import numpy as np\n",
    "import matplotlib.pyplot as plt\n",
    "import seaborn as sns"
   ]
  },
  {
   "cell_type": "code",
   "execution_count": 145,
   "metadata": {},
   "outputs": [],
   "source": [
    "from sklearn.model_selection import train_test_split, GridSearchCV\n",
    "from sklearn.preprocessing import StandardScaler\n",
    "from sklearn.pipeline import Pipeline\n",
    "from sklearn.ensemble import RandomForestRegressor, GradientBoostingRegressor, VotingRegressor\n",
    "import xgboost"
   ]
  },
  {
   "cell_type": "code",
   "execution_count": 146,
   "metadata": {},
   "outputs": [
    {
     "name": "stdout",
     "output_type": "stream",
     "text": [
      "<class 'pandas.core.frame.DataFrame'>\n",
      "RangeIndex: 33509 entries, 0 to 33508\n",
      "Data columns (total 11 columns):\n",
      " #   Column               Non-Null Count  Dtype  \n",
      "---  ------               --------------  -----  \n",
      " 0   id                   33509 non-null  int64  \n",
      " 1   author               28485 non-null  object \n",
      " 2   geometry             28009 non-null  object \n",
      " 3   pressure [MPa]       33509 non-null  float64\n",
      " 4   mass_flux [kg/m2-s]  33509 non-null  float64\n",
      " 5   x_e_out [-]          23094 non-null  float64\n",
      " 6   D_e [mm]             33509 non-null  float64\n",
      " 7   D_h [mm]             33509 non-null  float64\n",
      " 8   length [mm]          33509 non-null  float64\n",
      " 9   chf_exp [MW/m2]      33509 non-null  float64\n",
      " 10  geometry_corrected   30254 non-null  object \n",
      "dtypes: float64(7), int64(1), object(3)\n",
      "memory usage: 2.8+ MB\n"
     ]
    }
   ],
   "source": [
    "df = pd.read_csv(\"../data/final_data.csv\")\n",
    "df = df.copy()\n",
    "df.info()"
   ]
  },
  {
   "cell_type": "code",
   "execution_count": 147,
   "metadata": {},
   "outputs": [],
   "source": [
    "# df = pd.read_csv(\"../data/data.csv\")\n",
    "# df[\"D_h [mm]\"] = df[\"D_h [mm]\"].fillna(df[\"D_h [mm]\"].mean())\n",
    "# df[\"D_e [mm]\"] = df[\"D_e [mm]\"].fillna(df[\"D_h [mm]\"].mean())\n",
    "# df[\"pressure [MPa]\"] = df[\"pressure [MPa]\"].fillna(df[\"pressure [MPa]\"].mean())\n",
    "# df[\"length [mm]\"] = df[\"length [mm]\"].fillna(df[\"length [mm]\"].mean())\n",
    "# df[\"mass_flux [kg/m2-s]\"] = df[\"mass_flux [kg/m2-s]\"].fillna(df[\"mass_flux [kg/m2-s]\"].mean())\n"
   ]
  },
  {
   "attachments": {},
   "cell_type": "markdown",
   "metadata": {},
   "source": [
    "### Target"
   ]
  },
  {
   "cell_type": "code",
   "execution_count": 148,
   "metadata": {},
   "outputs": [],
   "source": [
    "# target = df[df[\"x_e_out [-]\"].isnull()]\n",
    "# target = target[[\"D_e [mm]\", \"D_h [mm]\", \"pressure [MPa]\", \"chf_exp [MW/m2]\", \"length [mm]\", \"mass_flux [kg/m2-s]\"]]\n",
    "# target.info()"
   ]
  },
  {
   "attachments": {},
   "cell_type": "markdown",
   "metadata": {},
   "source": [
    "### Training data"
   ]
  },
  {
   "cell_type": "code",
   "execution_count": 149,
   "metadata": {},
   "outputs": [],
   "source": [
    "X = df[df[\"x_e_out [-]\"].notna()]\n",
    "X = X[[\"D_e [mm]\", \"D_h [mm]\", \"pressure [MPa]\", \"chf_exp [MW/m2]\", \"length [mm]\", \"mass_flux [kg/m2-s]\"]]\n",
    "y = df[df[\"x_e_out [-]\"].notna()]\n",
    "y = y[\"x_e_out [-]\"]"
   ]
  },
  {
   "cell_type": "code",
   "execution_count": 150,
   "metadata": {},
   "outputs": [],
   "source": [
    "X = X.rename(columns={\"D_e [mm]\":\"De\",\"D_h [mm]\":\"Dh\",\"pressure [MPa]\":\"pressure\",\"chf_exp [MW/m2]\":\"chfExp\",\"length [mm]\":\"length\",\"mass_flux [kg/m2-s]\":\"massFlux\"})\n"
   ]
  },
  {
   "cell_type": "code",
   "execution_count": 151,
   "metadata": {},
   "outputs": [
    {
     "data": {
      "text/plain": [
       "((23094, 6), (23094,))"
      ]
     },
     "execution_count": 151,
     "metadata": {},
     "output_type": "execute_result"
    }
   ],
   "source": [
    "X.shape, y.shape"
   ]
  },
  {
   "cell_type": "code",
   "execution_count": 152,
   "metadata": {},
   "outputs": [],
   "source": [
    "X_train, X_test, y_train, y_test = train_test_split(X, y, test_size=0.2, random_state=2)"
   ]
  },
  {
   "cell_type": "code",
   "execution_count": 153,
   "metadata": {},
   "outputs": [],
   "source": [
    "rand_forest = RandomForestRegressor(random_state=42)\n",
    "\n",
    "gbr_reg = GradientBoostingRegressor()\n",
    "\n",
    "xgb_reg = xgboost.XGBRegressor()\n",
    "\n",
    "# Definimos sus hiperparametros\n",
    "\n",
    "rand_forest_param = {\n",
    "    'n_estimators': [10,50, 100],\n",
    "    'min_samples_leaf': [2, 4, 6, 10],\n",
    "    'max_features': [1, 2, 3, 4, 5, 6]\n",
    "    }\n",
    "\n",
    "gbr_param = {\n",
    "    'n_estimators': [10, 50, 100],\n",
    "    'learning_rate': [0.01, 0.5, 0.2, 0.1, 1],\n",
    "    'max_depth': [3, 5, 7, 10]}\n",
    "\n",
    "xgb_reg_param = {\n",
    "    'n_estimators': [10, 50, 100],\n",
    "    \n",
    "    'learning_rate':[1, 0.1, 0.05, 0.01],\n",
    "    'min_child_weight':[2,3,5],\n",
    "    'max_depth': [3, 5, 7],\n",
    "    'alpha':[0.01, 1, 5],\n",
    "}\n",
    "\n",
    "\n",
    "\n",
    "# GridSearch\n",
    "\n",
    "gs_rand_forest = GridSearchCV(rand_forest,\n",
    "                            rand_forest_param,\n",
    "                            cv=10,\n",
    "                            scoring=[\"neg_mean_squared_error\", \"r2\"],\n",
    "                            verbose=1,\n",
    "                            n_jobs=-1,refit=\"neg_mean_squared_error\")\n",
    "\n",
    "gs_xgb = GridSearchCV(xgb_reg,\n",
    "                        xgb_reg_param,\n",
    "                        cv=10,\n",
    "                        scoring=[\"neg_mean_squared_error\", \"r2\"],\n",
    "                        verbose=1,\n",
    "                        n_jobs=-1,refit=\"neg_mean_squared_error\")\n",
    "\n",
    "\n",
    "gs_gbr = GridSearchCV(gbr_reg,\n",
    "                        gbr_param,\n",
    "                        cv=10,\n",
    "                        scoring=[\"neg_mean_squared_error\", \"r2\"],\n",
    "                        verbose=1,\n",
    "                        n_jobs=-1,\n",
    "                        refit=\"neg_mean_squared_error\")\n",
    "\n",
    "grids = {\"gs_rand_forest\":gs_rand_forest,\n",
    "         \"gs_xgb\":gs_xgb,\n",
    "         \"gs_gbr\":gs_gbr,\n",
    "         }"
   ]
  },
  {
   "cell_type": "code",
   "execution_count": 154,
   "metadata": {},
   "outputs": [
    {
     "name": "stdout",
     "output_type": "stream",
     "text": [
      "Fitting 10 folds for each of 72 candidates, totalling 720 fits\n",
      "Fitting 10 folds for each of 324 candidates, totalling 3240 fits\n",
      "Fitting 10 folds for each of 60 candidates, totalling 600 fits\n",
      "CPU times: total: 23 s\n",
      "Wall time: 4min 13s\n"
     ]
    }
   ],
   "source": [
    "%%time\n",
    "\n",
    "for nombre, grid_search in grids.items():\n",
    "    grid_search.fit(X_train, y_train)"
   ]
  },
  {
   "cell_type": "code",
   "execution_count": 155,
   "metadata": {},
   "outputs": [
    {
     "data": {
      "text/html": [
       "<div>\n",
       "<style scoped>\n",
       "    .dataframe tbody tr th:only-of-type {\n",
       "        vertical-align: middle;\n",
       "    }\n",
       "\n",
       "    .dataframe tbody tr th {\n",
       "        vertical-align: top;\n",
       "    }\n",
       "\n",
       "    .dataframe thead th {\n",
       "        text-align: right;\n",
       "    }\n",
       "</style>\n",
       "<table border=\"1\" class=\"dataframe\">\n",
       "  <thead>\n",
       "    <tr style=\"text-align: right;\">\n",
       "      <th></th>\n",
       "      <th>Grid</th>\n",
       "      <th>Best score</th>\n",
       "    </tr>\n",
       "  </thead>\n",
       "  <tbody>\n",
       "    <tr>\n",
       "      <th>0</th>\n",
       "      <td>gs_rand_forest</td>\n",
       "      <td>-0.005310</td>\n",
       "    </tr>\n",
       "    <tr>\n",
       "      <th>1</th>\n",
       "      <td>gs_xgb</td>\n",
       "      <td>-0.005355</td>\n",
       "    </tr>\n",
       "    <tr>\n",
       "      <th>2</th>\n",
       "      <td>gs_gbr</td>\n",
       "      <td>-0.005498</td>\n",
       "    </tr>\n",
       "  </tbody>\n",
       "</table>\n",
       "</div>"
      ],
      "text/plain": [
       "             Grid  Best score\n",
       "0  gs_rand_forest   -0.005310\n",
       "1          gs_xgb   -0.005355\n",
       "2          gs_gbr   -0.005498"
      ]
     },
     "execution_count": 155,
     "metadata": {},
     "output_type": "execute_result"
    }
   ],
   "source": [
    "best_grids = [(i, j.best_score_) for i, j in grids.items()]\n",
    "\n",
    "best_grids = pd.DataFrame(best_grids, columns=[\"Grid\", \"Best score\"]).sort_values(by=\"Best score\", ascending=False)\n",
    "best_grids"
   ]
  },
  {
   "cell_type": "code",
   "execution_count": 156,
   "metadata": {},
   "outputs": [],
   "source": [
    "# voting_reg = Pipeline(steps=[(\"scaler\",StandardScaler()),\n",
    "#                           (\"voting_reg\",VotingRegressor())\n",
    "#                          ])\n",
    "\n",
    "# voting_reg_param = {\n",
    "#     'gbr_reg__n_estimators': [100, 200, 300],\n",
    "#     'gbr_reg__learning_rate': [0.01, 0.1, 1],\n",
    "#     'gbr_reg__max_depth': [3, 5, 7]}\n",
    "\n",
    "# gs_voting_reg = GridSearchCV(rand_forest,\n",
    "#                             rand_forest_param,\n",
    "#                             cv=10,\n",
    "#                             scoring=[\"neg_mean_squared_error\", \"r2\"],\n",
    "#                             verbose=1,\n",
    "#                             n_jobs=-1,refit=\"neg_mean_squared_error\")"
   ]
  },
  {
   "cell_type": "code",
   "execution_count": 157,
   "metadata": {},
   "outputs": [
    {
     "data": {
      "text/plain": [
       "0.48903108089062064"
      ]
     },
     "execution_count": 157,
     "metadata": {},
     "output_type": "execute_result"
    }
   ],
   "source": [
    "# El mejor modelo ha sido\n",
    "best_model = grids[\"gs_xgb\"]\n",
    "mejor_modelo = best_model.best_estimator_\n",
    "mejor_modelo.fit(X_train, y_train)\n",
    "mejor_modelo.score(X_test, y_test)"
   ]
  },
  {
   "cell_type": "code",
   "execution_count": 158,
   "metadata": {},
   "outputs": [
    {
     "data": {
      "text/plain": [
       "array([0.13258299, 0.09378066, 0.18550601, 0.36090429, 0.11851925,\n",
       "       0.1087068 ])"
      ]
     },
     "execution_count": 158,
     "metadata": {},
     "output_type": "execute_result"
    }
   ],
   "source": [
    "best_model = gs_rand_forest.best_estimator_\n",
    "best_model.feature_importances_"
   ]
  },
  {
   "cell_type": "code",
   "execution_count": 172,
   "metadata": {},
   "outputs": [
    {
     "data": {
      "text/html": [
       "<div>\n",
       "<style scoped>\n",
       "    .dataframe tbody tr th:only-of-type {\n",
       "        vertical-align: middle;\n",
       "    }\n",
       "\n",
       "    .dataframe tbody tr th {\n",
       "        vertical-align: top;\n",
       "    }\n",
       "\n",
       "    .dataframe thead th {\n",
       "        text-align: right;\n",
       "    }\n",
       "</style>\n",
       "<table border=\"1\" class=\"dataframe\">\n",
       "  <thead>\n",
       "    <tr style=\"text-align: right;\">\n",
       "      <th></th>\n",
       "      <th>params</th>\n",
       "      <th>rank_test_r2</th>\n",
       "      <th>rank_test_neg_mean_squared_error</th>\n",
       "      <th>mean_test_neg_mean_squared_error</th>\n",
       "    </tr>\n",
       "  </thead>\n",
       "  <tbody>\n",
       "    <tr>\n",
       "      <th>155</th>\n",
       "      <td>{'alpha': 1, 'learning_rate': 0.1, 'max_depth'...</td>\n",
       "      <td>1</td>\n",
       "      <td>1</td>\n",
       "      <td>-0.006169</td>\n",
       "    </tr>\n",
       "    <tr>\n",
       "      <th>158</th>\n",
       "      <td>{'alpha': 1, 'learning_rate': 0.1, 'max_depth'...</td>\n",
       "      <td>2</td>\n",
       "      <td>2</td>\n",
       "      <td>-0.006172</td>\n",
       "    </tr>\n",
       "    <tr>\n",
       "      <th>161</th>\n",
       "      <td>{'alpha': 1, 'learning_rate': 0.1, 'max_depth'...</td>\n",
       "      <td>3</td>\n",
       "      <td>3</td>\n",
       "      <td>-0.006176</td>\n",
       "    </tr>\n",
       "    <tr>\n",
       "      <th>146</th>\n",
       "      <td>{'alpha': 1, 'learning_rate': 0.1, 'max_depth'...</td>\n",
       "      <td>4</td>\n",
       "      <td>4</td>\n",
       "      <td>-0.006189</td>\n",
       "    </tr>\n",
       "    <tr>\n",
       "      <th>149</th>\n",
       "      <td>{'alpha': 1, 'learning_rate': 0.1, 'max_depth'...</td>\n",
       "      <td>5</td>\n",
       "      <td>5</td>\n",
       "      <td>-0.006190</td>\n",
       "    </tr>\n",
       "    <tr>\n",
       "      <th>...</th>\n",
       "      <td>...</td>\n",
       "      <td>...</td>\n",
       "      <td>...</td>\n",
       "      <td>...</td>\n",
       "    </tr>\n",
       "    <tr>\n",
       "      <th>297</th>\n",
       "      <td>{'alpha': 5, 'learning_rate': 0.01, 'max_depth...</td>\n",
       "      <td>316</td>\n",
       "      <td>316</td>\n",
       "      <td>-0.213957</td>\n",
       "    </tr>\n",
       "    <tr>\n",
       "      <th>318</th>\n",
       "      <td>{'alpha': 5, 'learning_rate': 0.01, 'max_depth...</td>\n",
       "      <td>316</td>\n",
       "      <td>316</td>\n",
       "      <td>-0.213957</td>\n",
       "    </tr>\n",
       "    <tr>\n",
       "      <th>306</th>\n",
       "      <td>{'alpha': 5, 'learning_rate': 0.01, 'max_depth...</td>\n",
       "      <td>316</td>\n",
       "      <td>316</td>\n",
       "      <td>-0.213957</td>\n",
       "    </tr>\n",
       "    <tr>\n",
       "      <th>300</th>\n",
       "      <td>{'alpha': 5, 'learning_rate': 0.01, 'max_depth...</td>\n",
       "      <td>316</td>\n",
       "      <td>316</td>\n",
       "      <td>-0.213957</td>\n",
       "    </tr>\n",
       "    <tr>\n",
       "      <th>321</th>\n",
       "      <td>{'alpha': 5, 'learning_rate': 0.01, 'max_depth...</td>\n",
       "      <td>316</td>\n",
       "      <td>316</td>\n",
       "      <td>-0.213957</td>\n",
       "    </tr>\n",
       "  </tbody>\n",
       "</table>\n",
       "<p>324 rows × 4 columns</p>\n",
       "</div>"
      ],
      "text/plain": [
       "                                                params  rank_test_r2  \\\n",
       "155  {'alpha': 1, 'learning_rate': 0.1, 'max_depth'...             1   \n",
       "158  {'alpha': 1, 'learning_rate': 0.1, 'max_depth'...             2   \n",
       "161  {'alpha': 1, 'learning_rate': 0.1, 'max_depth'...             3   \n",
       "146  {'alpha': 1, 'learning_rate': 0.1, 'max_depth'...             4   \n",
       "149  {'alpha': 1, 'learning_rate': 0.1, 'max_depth'...             5   \n",
       "..                                                 ...           ...   \n",
       "297  {'alpha': 5, 'learning_rate': 0.01, 'max_depth...           316   \n",
       "318  {'alpha': 5, 'learning_rate': 0.01, 'max_depth...           316   \n",
       "306  {'alpha': 5, 'learning_rate': 0.01, 'max_depth...           316   \n",
       "300  {'alpha': 5, 'learning_rate': 0.01, 'max_depth...           316   \n",
       "321  {'alpha': 5, 'learning_rate': 0.01, 'max_depth...           316   \n",
       "\n",
       "     rank_test_neg_mean_squared_error  mean_test_neg_mean_squared_error  \n",
       "155                                 1                         -0.006169  \n",
       "158                                 2                         -0.006172  \n",
       "161                                 3                         -0.006176  \n",
       "146                                 4                         -0.006189  \n",
       "149                                 5                         -0.006190  \n",
       "..                                ...                               ...  \n",
       "297                               316                         -0.213957  \n",
       "318                               316                         -0.213957  \n",
       "306                               316                         -0.213957  \n",
       "300                               316                         -0.213957  \n",
       "321                               316                         -0.213957  \n",
       "\n",
       "[324 rows x 4 columns]"
      ]
     },
     "execution_count": 172,
     "metadata": {},
     "output_type": "execute_result"
    }
   ],
   "source": [
    "best_model = pd.DataFrame(gs_xgb.cv_results_)\n",
    "model_ranking = best_model[[\"params\", \"rank_test_r2\", \"rank_test_neg_mean_squared_error\", \"mean_test_neg_mean_squared_error\"]].sort_values(by=\"rank_test_r2\")\n",
    "model_ranking\n",
    "# model_ranking.loc[155, \"params\"]"
   ]
  },
  {
   "attachments": {},
   "cell_type": "markdown",
   "metadata": {},
   "source": [
    "### Second try"
   ]
  },
  {
   "cell_type": "code",
   "execution_count": 161,
   "metadata": {},
   "outputs": [],
   "source": [
    "X_2 = df[df[\"x_e_out [-]\"].notna()]\n",
    "\n",
    "X_2 = X_2[[\"pressure [MPa]\", \"chf_exp [MW/m2]\"]]\n",
    "X_2 = X_2.rename(columns={\"pressure [MPa]\":\"pressure\",\"chf_exp [MW/m2]\":\"chfExp\"})\n",
    "X_train_2, X_test_2, y_train_2, y_test_2 = train_test_split(X_2, y, test_size=0.2, random_state=2)\n",
    "\n"
   ]
  },
  {
   "cell_type": "code",
   "execution_count": 162,
   "metadata": {},
   "outputs": [
    {
     "name": "stdout",
     "output_type": "stream",
     "text": [
      "Fitting 10 folds for each of 72 candidates, totalling 720 fits\n",
      "Fitting 10 folds for each of 324 candidates, totalling 3240 fits\n",
      "Fitting 10 folds for each of 60 candidates, totalling 600 fits\n",
      "CPU times: total: 12 s\n",
      "Wall time: 2min 10s\n"
     ]
    }
   ],
   "source": [
    "%%time\n",
    "\n",
    "for nombre, grid_search in grids.items():\n",
    "    grid_search.fit(X_train_2, y_train_2)"
   ]
  },
  {
   "cell_type": "code",
   "execution_count": 163,
   "metadata": {},
   "outputs": [
    {
     "data": {
      "text/plain": [
       "0.39257149908419176"
      ]
     },
     "execution_count": 163,
     "metadata": {},
     "output_type": "execute_result"
    }
   ],
   "source": [
    "# El mejor modelo ha sido\n",
    "best_model = grids[\"gs_rand_forest\"]\n",
    "mejor_modelo = best_model.best_estimator_\n",
    "mejor_modelo.fit(X_train_2, y_train_2)\n",
    "mejor_modelo.score(X_test_2, y_test_2)"
   ]
  },
  {
   "cell_type": "code",
   "execution_count": 167,
   "metadata": {},
   "outputs": [
    {
     "data": {
      "text/html": [
       "<div>\n",
       "<style scoped>\n",
       "    .dataframe tbody tr th:only-of-type {\n",
       "        vertical-align: middle;\n",
       "    }\n",
       "\n",
       "    .dataframe tbody tr th {\n",
       "        vertical-align: top;\n",
       "    }\n",
       "\n",
       "    .dataframe thead th {\n",
       "        text-align: right;\n",
       "    }\n",
       "</style>\n",
       "<table border=\"1\" class=\"dataframe\">\n",
       "  <thead>\n",
       "    <tr style=\"text-align: right;\">\n",
       "      <th></th>\n",
       "      <th>Grid</th>\n",
       "      <th>Best score</th>\n",
       "    </tr>\n",
       "  </thead>\n",
       "  <tbody>\n",
       "    <tr>\n",
       "      <th>1</th>\n",
       "      <td>gs_xgb</td>\n",
       "      <td>-0.006169</td>\n",
       "    </tr>\n",
       "    <tr>\n",
       "      <th>0</th>\n",
       "      <td>gs_rand_forest</td>\n",
       "      <td>-0.006209</td>\n",
       "    </tr>\n",
       "    <tr>\n",
       "      <th>2</th>\n",
       "      <td>gs_gbr</td>\n",
       "      <td>-0.006267</td>\n",
       "    </tr>\n",
       "  </tbody>\n",
       "</table>\n",
       "</div>"
      ],
      "text/plain": [
       "             Grid  Best score\n",
       "1          gs_xgb   -0.006169\n",
       "0  gs_rand_forest   -0.006209\n",
       "2          gs_gbr   -0.006267"
      ]
     },
     "execution_count": 167,
     "metadata": {},
     "output_type": "execute_result"
    }
   ],
   "source": [
    "best_grids = [(i, j.best_score_) for i, j in grids.items()]\n",
    "\n",
    "best_grids = pd.DataFrame(best_grids, columns=[\"Grid\", \"Best score\"]).sort_values(by=\"Best score\", ascending=False)\n",
    "best_grids"
   ]
  },
  {
   "cell_type": "code",
   "execution_count": 171,
   "metadata": {},
   "outputs": [
    {
     "data": {
      "text/plain": [
       "{'alpha': 1,\n",
       " 'learning_rate': 0.1,\n",
       " 'max_depth': 7,\n",
       " 'min_child_weight': 2,\n",
       " 'n_estimators': 100}"
      ]
     },
     "execution_count": 171,
     "metadata": {},
     "output_type": "execute_result"
    }
   ],
   "source": [
    "best_model = pd.DataFrame(gs_xgb.cv_results_)\n",
    "model_ranking = best_model[[\"params\", \"rank_test_r2\", \"rank_test_neg_mean_squared_error\", \"mean_test_neg_mean_squared_error\"]].sort_values(by=\"rank_test_r2\")\n",
    "# model_ranking\n",
    "model_ranking.loc[155, \"params\"]"
   ]
  },
  {
   "attachments": {},
   "cell_type": "markdown",
   "metadata": {},
   "source": [
    "### Train first model"
   ]
  },
  {
   "cell_type": "code",
   "execution_count": 173,
   "metadata": {},
   "outputs": [
    {
     "data": {
      "text/html": [
       "<style>#sk-container-id-3 {color: black;background-color: white;}#sk-container-id-3 pre{padding: 0;}#sk-container-id-3 div.sk-toggleable {background-color: white;}#sk-container-id-3 label.sk-toggleable__label {cursor: pointer;display: block;width: 100%;margin-bottom: 0;padding: 0.3em;box-sizing: border-box;text-align: center;}#sk-container-id-3 label.sk-toggleable__label-arrow:before {content: \"▸\";float: left;margin-right: 0.25em;color: #696969;}#sk-container-id-3 label.sk-toggleable__label-arrow:hover:before {color: black;}#sk-container-id-3 div.sk-estimator:hover label.sk-toggleable__label-arrow:before {color: black;}#sk-container-id-3 div.sk-toggleable__content {max-height: 0;max-width: 0;overflow: hidden;text-align: left;background-color: #f0f8ff;}#sk-container-id-3 div.sk-toggleable__content pre {margin: 0.2em;color: black;border-radius: 0.25em;background-color: #f0f8ff;}#sk-container-id-3 input.sk-toggleable__control:checked~div.sk-toggleable__content {max-height: 200px;max-width: 100%;overflow: auto;}#sk-container-id-3 input.sk-toggleable__control:checked~label.sk-toggleable__label-arrow:before {content: \"▾\";}#sk-container-id-3 div.sk-estimator input.sk-toggleable__control:checked~label.sk-toggleable__label {background-color: #d4ebff;}#sk-container-id-3 div.sk-label input.sk-toggleable__control:checked~label.sk-toggleable__label {background-color: #d4ebff;}#sk-container-id-3 input.sk-hidden--visually {border: 0;clip: rect(1px 1px 1px 1px);clip: rect(1px, 1px, 1px, 1px);height: 1px;margin: -1px;overflow: hidden;padding: 0;position: absolute;width: 1px;}#sk-container-id-3 div.sk-estimator {font-family: monospace;background-color: #f0f8ff;border: 1px dotted black;border-radius: 0.25em;box-sizing: border-box;margin-bottom: 0.5em;}#sk-container-id-3 div.sk-estimator:hover {background-color: #d4ebff;}#sk-container-id-3 div.sk-parallel-item::after {content: \"\";width: 100%;border-bottom: 1px solid gray;flex-grow: 1;}#sk-container-id-3 div.sk-label:hover label.sk-toggleable__label {background-color: #d4ebff;}#sk-container-id-3 div.sk-serial::before {content: \"\";position: absolute;border-left: 1px solid gray;box-sizing: border-box;top: 0;bottom: 0;left: 50%;z-index: 0;}#sk-container-id-3 div.sk-serial {display: flex;flex-direction: column;align-items: center;background-color: white;padding-right: 0.2em;padding-left: 0.2em;position: relative;}#sk-container-id-3 div.sk-item {position: relative;z-index: 1;}#sk-container-id-3 div.sk-parallel {display: flex;align-items: stretch;justify-content: center;background-color: white;position: relative;}#sk-container-id-3 div.sk-item::before, #sk-container-id-3 div.sk-parallel-item::before {content: \"\";position: absolute;border-left: 1px solid gray;box-sizing: border-box;top: 0;bottom: 0;left: 50%;z-index: -1;}#sk-container-id-3 div.sk-parallel-item {display: flex;flex-direction: column;z-index: 1;position: relative;background-color: white;}#sk-container-id-3 div.sk-parallel-item:first-child::after {align-self: flex-end;width: 50%;}#sk-container-id-3 div.sk-parallel-item:last-child::after {align-self: flex-start;width: 50%;}#sk-container-id-3 div.sk-parallel-item:only-child::after {width: 0;}#sk-container-id-3 div.sk-dashed-wrapped {border: 1px dashed gray;margin: 0 0.4em 0.5em 0.4em;box-sizing: border-box;padding-bottom: 0.4em;background-color: white;}#sk-container-id-3 div.sk-label label {font-family: monospace;font-weight: bold;display: inline-block;line-height: 1.2em;}#sk-container-id-3 div.sk-label-container {text-align: center;}#sk-container-id-3 div.sk-container {/* jupyter's `normalize.less` sets `[hidden] { display: none; }` but bootstrap.min.css set `[hidden] { display: none !important; }` so we also need the `!important` here to be able to override the default hidden behavior on the sphinx rendered scikit-learn.org. See: https://github.com/scikit-learn/scikit-learn/issues/21755 */display: inline-block !important;position: relative;}#sk-container-id-3 div.sk-text-repr-fallback {display: none;}</style><div id=\"sk-container-id-3\" class=\"sk-top-container\"><div class=\"sk-text-repr-fallback\"><pre>XGBRegressor(alpha=1, base_score=None, booster=None, callbacks=None,\n",
       "             colsample_bylevel=None, colsample_bynode=None,\n",
       "             colsample_bytree=None, early_stopping_rounds=None,\n",
       "             enable_categorical=False, eval_metric=None, feature_types=None,\n",
       "             gamma=None, gpu_id=None, grow_policy=None, importance_type=None,\n",
       "             interaction_constraints=None, learning_rate=0.1, max_bin=None,\n",
       "             max_cat_threshold=None, max_cat_to_onehot=None,\n",
       "             max_delta_step=None, max_depth=7, max_leaves=None,\n",
       "             min_child_weight=2, missing=nan, monotone_constraints=None,\n",
       "             n_estimators=100, n_jobs=None, num_parallel_tree=None,\n",
       "             predictor=None, ...)</pre><b>In a Jupyter environment, please rerun this cell to show the HTML representation or trust the notebook. <br />On GitHub, the HTML representation is unable to render, please try loading this page with nbviewer.org.</b></div><div class=\"sk-container\" hidden><div class=\"sk-item\"><div class=\"sk-estimator sk-toggleable\"><input class=\"sk-toggleable__control sk-hidden--visually\" id=\"sk-estimator-id-3\" type=\"checkbox\" checked><label for=\"sk-estimator-id-3\" class=\"sk-toggleable__label sk-toggleable__label-arrow\">XGBRegressor</label><div class=\"sk-toggleable__content\"><pre>XGBRegressor(alpha=1, base_score=None, booster=None, callbacks=None,\n",
       "             colsample_bylevel=None, colsample_bynode=None,\n",
       "             colsample_bytree=None, early_stopping_rounds=None,\n",
       "             enable_categorical=False, eval_metric=None, feature_types=None,\n",
       "             gamma=None, gpu_id=None, grow_policy=None, importance_type=None,\n",
       "             interaction_constraints=None, learning_rate=0.1, max_bin=None,\n",
       "             max_cat_threshold=None, max_cat_to_onehot=None,\n",
       "             max_delta_step=None, max_depth=7, max_leaves=None,\n",
       "             min_child_weight=2, missing=nan, monotone_constraints=None,\n",
       "             n_estimators=100, n_jobs=None, num_parallel_tree=None,\n",
       "             predictor=None, ...)</pre></div></div></div></div></div>"
      ],
      "text/plain": [
       "XGBRegressor(alpha=1, base_score=None, booster=None, callbacks=None,\n",
       "             colsample_bylevel=None, colsample_bynode=None,\n",
       "             colsample_bytree=None, early_stopping_rounds=None,\n",
       "             enable_categorical=False, eval_metric=None, feature_types=None,\n",
       "             gamma=None, gpu_id=None, grow_policy=None, importance_type=None,\n",
       "             interaction_constraints=None, learning_rate=0.1, max_bin=None,\n",
       "             max_cat_threshold=None, max_cat_to_onehot=None,\n",
       "             max_delta_step=None, max_depth=7, max_leaves=None,\n",
       "             min_child_weight=2, missing=nan, monotone_constraints=None,\n",
       "             n_estimators=100, n_jobs=None, num_parallel_tree=None,\n",
       "             predictor=None, ...)"
      ]
     },
     "execution_count": 173,
     "metadata": {},
     "output_type": "execute_result"
    }
   ],
   "source": [
    "model_2 = xgboost.XGBRegressor(alpha=1, learning_rate = 0.1, max_depth=7, min_child_weight = 2, n_estimators=100)\n",
    "\n",
    "model_2.fit(X, y)"
   ]
  },
  {
   "attachments": {},
   "cell_type": "markdown",
   "metadata": {},
   "source": [
    "### Deep Learning time"
   ]
  },
  {
   "cell_type": "code",
   "execution_count": 34,
   "metadata": {},
   "outputs": [],
   "source": [
    "X_train_n, X_valid, y_train_n, y_valid = train_test_split(X_train,\n",
    "                                                      y_train)"
   ]
  },
  {
   "cell_type": "code",
   "execution_count": 35,
   "metadata": {},
   "outputs": [],
   "source": [
    "scaler = StandardScaler()\n",
    "X_train = scaler.fit_transform(X_train)\n",
    "X_valid = scaler.transform(X_valid)\n",
    "X_test = scaler.transform(X_test)"
   ]
  },
  {
   "cell_type": "code",
   "execution_count": 39,
   "metadata": {},
   "outputs": [],
   "source": [
    "import tensorflow as tf\n",
    "from tensorflow import keras\n",
    "from tensorflow.keras import layers"
   ]
  },
  {
   "cell_type": "code",
   "execution_count": 60,
   "metadata": {},
   "outputs": [],
   "source": [
    "capas = [\n",
    "    keras.layers.Dense(50, activation='relu', input_shape=X_train.shape[1:]),\n",
    "    keras.layers.Dropout(rate=0.5),\n",
    "    keras.layers.Dense(30, activation='relu'),\n",
    "    keras.layers.Dropout(rate=0.5),\n",
    "    keras.layers.Dense(1)\n",
    "]\n",
    "model = keras.models.Sequential(capas)"
   ]
  },
  {
   "cell_type": "code",
   "execution_count": 61,
   "metadata": {},
   "outputs": [],
   "source": [
    "model.compile(optimizer=\"adam\",\n",
    "              loss=\"mean_squared_error\",\n",
    "              metrics=[\"mae\", \"mse\"])"
   ]
  },
  {
   "cell_type": "code",
   "execution_count": 62,
   "metadata": {},
   "outputs": [
    {
     "name": "stdout",
     "output_type": "stream",
     "text": [
      "Epoch 1/5\n",
      "289/289 [==============================] - 4s 14ms/step - loss: 0.0111 - mae: 0.0715 - mse: 0.0111 - val_loss: 0.0071 - val_mae: 0.0577 - val_mse: 0.0071\n",
      "Epoch 2/5\n",
      "289/289 [==============================] - 4s 14ms/step - loss: 0.0069 - mae: 0.0593 - mse: 0.0069 - val_loss: 0.0069 - val_mae: 0.0578 - val_mse: 0.0069\n",
      "Epoch 3/5\n",
      "289/289 [==============================] - 4s 14ms/step - loss: 0.0067 - mae: 0.0584 - mse: 0.0067 - val_loss: 0.0067 - val_mae: 0.0571 - val_mse: 0.0067\n",
      "Epoch 4/5\n",
      "289/289 [==============================] - 4s 14ms/step - loss: 0.0067 - mae: 0.0582 - mse: 0.0067 - val_loss: 0.0064 - val_mae: 0.0555 - val_mse: 0.0064\n",
      "Epoch 5/5\n",
      "289/289 [==============================] - 4s 14ms/step - loss: 0.0066 - mae: 0.0578 - mse: 0.0066 - val_loss: 0.0068 - val_mae: 0.0567 - val_mse: 0.0068\n"
     ]
    }
   ],
   "source": [
    "history = model.fit(\n",
    "    X_train,\n",
    "    y_train,\n",
    "    batch_size=64,\n",
    "    epochs=3,\n",
    "    validation_data=(X_valid, y_valid)\n",
    ")"
   ]
  },
  {
   "cell_type": "code",
   "execution_count": 68,
   "metadata": {},
   "outputs": [
    {
     "name": "stdout",
     "output_type": "stream",
     "text": [
      "145/145 [==============================] - 0s 2ms/step - loss: 0.0068 - mae: 0.0567 - mse: 0.0068\n"
     ]
    },
    {
     "data": {
      "text/plain": [
       "[0.006754335481673479, 0.056726619601249695, 0.006754335481673479]"
      ]
     },
     "execution_count": 68,
     "metadata": {},
     "output_type": "execute_result"
    }
   ],
   "source": [
    "model.evaluate(X_valid, y_valid)"
   ]
  },
  {
   "cell_type": "code",
   "execution_count": 63,
   "metadata": {},
   "outputs": [
    {
     "data": {
      "image/png": "[encoded data removed]",
      "text/plain": [
       "<Figure size 800x500 with 1 Axes>"
      ]
     },
     "metadata": {},
     "output_type": "display_data"
    }
   ],
   "source": [
    "\n",
    "pd.DataFrame(history.history).plot(figsize=(8, 5))\n",
    "plt.grid(True)\n",
    "plt.show()"
   ]
  },
  {
   "cell_type": "code",
   "execution_count": 64,
   "metadata": {},
   "outputs": [],
   "source": [
    "model.save(\"../utils/ANN_heat.h5\")"
   ]
  },
  {
   "attachments": {},
   "cell_type": "markdown",
   "metadata": {},
   "source": [
    "## Submission time"
   ]
  },
  {
   "cell_type": "code",
   "execution_count": 81,
   "metadata": {},
   "outputs": [],
   "source": [
    "def generate_submission_file(model, X, submission_number):\n",
    "    df_test = pd.read_csv('../data/target.csv', sep=\",\")\n",
    "    y = model.predict(X)\n",
    "    y = y.reshape(-1)\n",
    "    df_test[\"y_test\"] = y\n",
    "    df_sub = pd.DataFrame({'Id': df_test['id'].values.reshape(-1), 'x_e_out [-]': y})\n",
    "    df_sub.to_csv(f\"../submissions/submission_{submission_number}.csv\", index=False)"
   ]
  },
  {
   "cell_type": "code",
   "execution_count": 82,
   "metadata": {},
   "outputs": [
    {
     "name": "stdout",
     "output_type": "stream",
     "text": [
      "<class 'pandas.core.frame.DataFrame'>\n",
      "Int64Index: 10415 entries, 4 to 31642\n",
      "Data columns (total 6 columns):\n",
      " #   Column               Non-Null Count  Dtype  \n",
      "---  ------               --------------  -----  \n",
      " 0   D_e [mm]             10415 non-null  float64\n",
      " 1   D_h [mm]             10415 non-null  float64\n",
      " 2   pressure [MPa]       10415 non-null  float64\n",
      " 3   chf_exp [MW/m2]      10415 non-null  float64\n",
      " 4   length [mm]          10415 non-null  float64\n",
      " 5   mass_flux [kg/m2-s]  10415 non-null  float64\n",
      "dtypes: float64(6)\n",
      "memory usage: 569.6 KB\n"
     ]
    }
   ],
   "source": [
    "final_target = df.copy()\n",
    "final_target = final_target[final_target[\"x_e_out [-]\"].isnull()]\n",
    "\n",
    "final_target = final_target[[\"D_e [mm]\", \"D_h [mm]\", \"pressure [MPa]\", \"chf_exp [MW/m2]\", \"length [mm]\", \"mass_flux [kg/m2-s]\"]]\n",
    "final_target.info()"
   ]
  },
  {
   "cell_type": "code",
   "execution_count": 178,
   "metadata": {},
   "outputs": [],
   "source": [
    "final_target = final_target.rename(columns={\"D_e [mm]\":\"De\",\"D_h [mm]\":\"Dh\",\"pressure [MPa]\":\"pressure\",\"chf_exp [MW/m2]\":\"chfExp\",\"length [mm]\":\"length\",\"mass_flux [kg/m2-s]\":\"massFlux\"})"
   ]
  },
  {
   "cell_type": "code",
   "execution_count": 179,
   "metadata": {},
   "outputs": [],
   "source": [
    "generate_submission_file(model_2, final_target, 2)"
   ]
  }
 ],
 "metadata": {
  "kernelspec": {
   "display_name": "Python 3",
   "language": "python",
   "name": "python3"
  },
  "language_info": {
   "codemirror_mode": {
    "name": "ipython",
    "version": 3
   },
   "file_extension": ".py",
   "mimetype": "text/x-python",
   "name": "python",
   "nbconvert_exporter": "python",
   "pygments_lexer": "ipython3",
   "version": "3.10.8"
  },
  "orig_nbformat": 4
 },
 "nbformat": 4,
 "nbformat_minor": 2
}
