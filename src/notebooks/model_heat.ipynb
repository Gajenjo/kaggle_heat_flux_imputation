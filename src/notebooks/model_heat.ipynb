{
 "cells": [
  {
   "cell_type": "code",
   "execution_count": 59,
   "metadata": {},
   "outputs": [],
   "source": [
    "import pandas as pd\n",
    "import numpy as np\n",
    "import matplotlib.pyplot as plt\n",
    "import seaborn as sns"
   ]
  },
  {
   "cell_type": "code",
   "execution_count": 60,
   "metadata": {},
   "outputs": [],
   "source": [
    "from sklearn.model_selection import train_test_split, GridSearchCV\n",
    "from sklearn.preprocessing import StandardScaler\n",
    "from sklearn.svm import SVR\n",
    "from sklearn.linear_model import LinearRegression, Lasso, Ridge, ElasticNet\n",
    "from sklearn.pipeline import Pipeline\n",
    "from sklearn.impute import KNNImputer\n",
    "from sklearn.tree import DecisionTreeRegressor, plot_tree\n",
    "from sklearn.ensemble import RandomForestRegressor, GradientBoostingRegressor, VotingRegressor, AdaBoostRegressor\n",
    "import xgboost"
   ]
  },
  {
   "cell_type": "code",
   "execution_count": 61,
   "metadata": {},
   "outputs": [],
   "source": [
    "df = pd.read_csv(\"../data/heat.csv\")\n",
    "df = df.copy()"
   ]
  },
  {
   "attachments": {},
   "cell_type": "markdown",
   "metadata": {},
   "source": [
    "# Lenght imputation"
   ]
  },
  {
   "cell_type": "code",
   "execution_count": 62,
   "metadata": {},
   "outputs": [],
   "source": [
    "df_length = df.copy()\n",
    "# df_dh.drop(columns=\"id\", inplace=True)"
   ]
  },
  {
   "attachments": {},
   "cell_type": "markdown",
   "metadata": {},
   "source": [
    "### Target"
   ]
  },
  {
   "cell_type": "code",
   "execution_count": 63,
   "metadata": {},
   "outputs": [
    {
     "name": "stdout",
     "output_type": "stream",
     "text": [
      "<class 'pandas.core.frame.DataFrame'>\n",
      "Int64Index: 4119 entries, 16 to 31640\n",
      "Data columns (total 4 columns):\n",
      " #   Column           Non-Null Count  Dtype  \n",
      "---  ------           --------------  -----  \n",
      " 0   id               4119 non-null   int64  \n",
      " 1   length [mm]      0 non-null      float64\n",
      " 2   pressure [MPa]   4119 non-null   float64\n",
      " 3   chf_exp [MW/m2]  4119 non-null   float64\n",
      "dtypes: float64(3), int64(1)\n",
      "memory usage: 160.9 KB\n"
     ]
    }
   ],
   "source": [
    "target = df_length[df_length[\"length [mm]\"].isnull()]\n",
    "target = target[(target[\"pressure [MPa]\"].notna())]\n",
    "target.info()"
   ]
  },
  {
   "attachments": {},
   "cell_type": "markdown",
   "metadata": {},
   "source": [
    "### Training set"
   ]
  },
  {
   "cell_type": "code",
   "execution_count": 64,
   "metadata": {},
   "outputs": [
    {
     "name": "stdout",
     "output_type": "stream",
     "text": [
      "<class 'pandas.core.frame.DataFrame'>\n",
      "Int64Index: 23073 entries, 0 to 31643\n",
      "Data columns (total 4 columns):\n",
      " #   Column           Non-Null Count  Dtype  \n",
      "---  ------           --------------  -----  \n",
      " 0   id               23073 non-null  int64  \n",
      " 1   length [mm]      23073 non-null  float64\n",
      " 2   pressure [MPa]   23073 non-null  float64\n",
      " 3   chf_exp [MW/m2]  23073 non-null  float64\n",
      "dtypes: float64(3), int64(1)\n",
      "memory usage: 901.3 KB\n"
     ]
    }
   ],
   "source": [
    "df_length.dropna(how=\"any\", inplace=True)\n",
    "df_length.info()"
   ]
  },
  {
   "cell_type": "code",
   "execution_count": 65,
   "metadata": {},
   "outputs": [],
   "source": [
    "X = df_length[[\"pressure [MPa]\", \"chf_exp [MW/m2]\"]]\n",
    "y = df_length[\"length [mm]\"]"
   ]
  },
  {
   "cell_type": "code",
   "execution_count": 66,
   "metadata": {},
   "outputs": [
    {
     "data": {
      "text/html": [
       "<div>\n",
       "<style scoped>\n",
       "    .dataframe tbody tr th:only-of-type {\n",
       "        vertical-align: middle;\n",
       "    }\n",
       "\n",
       "    .dataframe tbody tr th {\n",
       "        vertical-align: top;\n",
       "    }\n",
       "\n",
       "    .dataframe thead th {\n",
       "        text-align: right;\n",
       "    }\n",
       "</style>\n",
       "<table border=\"1\" class=\"dataframe\">\n",
       "  <thead>\n",
       "    <tr style=\"text-align: right;\">\n",
       "      <th></th>\n",
       "      <th>pressure [MPa]</th>\n",
       "      <th>chf_exp [MW/m2]</th>\n",
       "    </tr>\n",
       "  </thead>\n",
       "  <tbody>\n",
       "    <tr>\n",
       "      <th>count</th>\n",
       "      <td>23073.000000</td>\n",
       "      <td>23073.000000</td>\n",
       "    </tr>\n",
       "    <tr>\n",
       "      <th>mean</th>\n",
       "      <td>10.633725</td>\n",
       "      <td>3.805145</td>\n",
       "    </tr>\n",
       "    <tr>\n",
       "      <th>std</th>\n",
       "      <td>4.345228</td>\n",
       "      <td>1.974666</td>\n",
       "    </tr>\n",
       "    <tr>\n",
       "      <th>min</th>\n",
       "      <td>0.100000</td>\n",
       "      <td>0.800000</td>\n",
       "    </tr>\n",
       "    <tr>\n",
       "      <th>25%</th>\n",
       "      <td>6.890000</td>\n",
       "      <td>2.400000</td>\n",
       "    </tr>\n",
       "    <tr>\n",
       "      <th>50%</th>\n",
       "      <td>11.070000</td>\n",
       "      <td>3.400000</td>\n",
       "    </tr>\n",
       "    <tr>\n",
       "      <th>75%</th>\n",
       "      <td>13.790000</td>\n",
       "      <td>4.700000</td>\n",
       "    </tr>\n",
       "    <tr>\n",
       "      <th>max</th>\n",
       "      <td>20.680000</td>\n",
       "      <td>19.300000</td>\n",
       "    </tr>\n",
       "  </tbody>\n",
       "</table>\n",
       "</div>"
      ],
      "text/plain": [
       "       pressure [MPa]  chf_exp [MW/m2]\n",
       "count    23073.000000     23073.000000\n",
       "mean        10.633725         3.805145\n",
       "std          4.345228         1.974666\n",
       "min          0.100000         0.800000\n",
       "25%          6.890000         2.400000\n",
       "50%         11.070000         3.400000\n",
       "75%         13.790000         4.700000\n",
       "max         20.680000        19.300000"
      ]
     },
     "execution_count": 66,
     "metadata": {},
     "output_type": "execute_result"
    }
   ],
   "source": [
    "X.describe()"
   ]
  },
  {
   "cell_type": "code",
   "execution_count": 67,
   "metadata": {},
   "outputs": [],
   "source": [
    "X_train, X_test, y_train, y_test = train_test_split(X, y, test_size=0.2, random_state=2)"
   ]
  },
  {
   "cell_type": "code",
   "execution_count": 68,
   "metadata": {},
   "outputs": [],
   "source": [
    "rand_forest = Pipeline(steps=[\n",
    "                          (\"scaler\",StandardScaler()),\n",
    "                          (\"rad_forest\",RandomForestRegressor(random_state=42))\n",
    "                         ])\n",
    "\n",
    "svm = Pipeline(steps=[(\"scaler\",StandardScaler()),\n",
    "                          (\"SVR\",SVR())\n",
    "                         ])\n",
    "\n",
    "ada_reg = Pipeline(steps=[(\"scaler\",StandardScaler()),\n",
    "                          (\"ada_reg\",AdaBoostRegressor(n_estimators=200,\n",
    "                            random_state=42))\n",
    "                         ])\n",
    "\n",
    "gbr_reg = Pipeline(steps=[(\"scaler\",StandardScaler()),\n",
    "                          (\"gbr_reg\",GradientBoostingRegressor(random_state=42))\n",
    "                         ])\n",
    "\n",
    "vot_reg = Pipeline(steps=[(\"scaler\",StandardScaler()),\n",
    "                          (\"vot_reg\",VotingRegressor(estimators=200))\n",
    "                         ])\n",
    "\n",
    "\n",
    "# Definimos sus hiperparametros\n",
    "\n",
    "rand_forest_param = {\n",
    "    'rad_forest__n_estimators': [10, 100, 1000],\n",
    "    'rad_forest__min_samples_leaf': [2, 4],\n",
    "    'rad_forest__max_features': [1, 2]\n",
    "    }\n",
    "\n",
    "svm_param = {\n",
    "    'SVR__C': [0.1, 1, 10],\n",
    "    'SVR__kernel': [\"linear\", \"rbf\", \"poly\"],\n",
    "    'SVR__gamma': [\"scale\", \"auto\"]\n",
    "}\n",
    "\n",
    "ada_param = {\n",
    "    'ada_reg__n_estimators': [100, 200, 300],\n",
    "    'ada_reg__learning_rate': [0.01, 0.1, 1]\n",
    "}\n",
    "\n",
    "gbr_param = {\n",
    "    'gbr_reg__n_estimators': [100, 200, 300],\n",
    "    'gbr_reg__learning_rate': [0.01, 0.1, 1],\n",
    "    'gbr_reg__max_depth': [3, 5, 7]\n",
    "}\n",
    "\n",
    "\n",
    "# GridSearch\n",
    "\n",
    "gs_rand_forest = GridSearchCV(rand_forest,\n",
    "                            rand_forest_param,\n",
    "                            cv=10,\n",
    "                            scoring=[\"neg_mean_squared_error\", \"r2\"],\n",
    "                            verbose=1,\n",
    "                            n_jobs=-1, refit=\"neg_mean_squared_error\")\n",
    "\n",
    "gs_svm = GridSearchCV(svm,\n",
    "                        svm_param,\n",
    "                        cv=10,\n",
    "                        scoring=[\"neg_mean_squared_error\", \"r2\"],\n",
    "                        verbose=1,\n",
    "                        n_jobs=-1, refit=\"neg_mean_squared_error\")\n",
    "\n",
    "gs_ada = GridSearchCV(ada_reg,\n",
    "                        ada_param,\n",
    "                        cv=10,\n",
    "                        scoring=[\"neg_mean_squared_error\", \"r2\"],\n",
    "                        verbose=1,\n",
    "                        n_jobs=-1, refit=\"neg_mean_squared_error\")\n",
    "\n",
    "gs_gbr = GridSearchCV(gbr_reg,\n",
    "                        gbr_param,\n",
    "                        cv=10,\n",
    "                        scoring=[\"neg_mean_squared_error\", \"r2\"],\n",
    "                        verbose=1,\n",
    "                        n_jobs=-1, refit=\"neg_mean_squared_error\")\n",
    "\n",
    "grids = {\"gs_rand_forest\":gs_rand_forest,\n",
    "         \"gs_svm\":gs_svm,\n",
    "         \"gs_ada\":gs_ada,\n",
    "         \"gs_gbr\":gs_gbr,\n",
    "         }"
   ]
  },
  {
   "cell_type": "code",
   "execution_count": 69,
   "metadata": {},
   "outputs": [
    {
     "name": "stdout",
     "output_type": "stream",
     "text": [
      "Fitting 10 folds for each of 12 candidates, totalling 120 fits\n",
      "Fitting 10 folds for each of 18 candidates, totalling 180 fits\n",
      "Fitting 10 folds for each of 9 candidates, totalling 90 fits\n",
      "Fitting 10 folds for each of 27 candidates, totalling 270 fits\n",
      "CPU times: total: 14.5 s\n",
      "Wall time: 5min 3s\n"
     ]
    }
   ],
   "source": [
    "%%time\n",
    "\n",
    "for nombre, grid_search in grids.items():\n",
    "    grid_search.fit(X_train, y_train)"
   ]
  },
  {
   "cell_type": "code",
   "execution_count": 70,
   "metadata": {},
   "outputs": [
    {
     "data": {
      "text/html": [
       "<div>\n",
       "<style scoped>\n",
       "    .dataframe tbody tr th:only-of-type {\n",
       "        vertical-align: middle;\n",
       "    }\n",
       "\n",
       "    .dataframe tbody tr th {\n",
       "        vertical-align: top;\n",
       "    }\n",
       "\n",
       "    .dataframe thead th {\n",
       "        text-align: right;\n",
       "    }\n",
       "</style>\n",
       "<table border=\"1\" class=\"dataframe\">\n",
       "  <thead>\n",
       "    <tr style=\"text-align: right;\">\n",
       "      <th></th>\n",
       "      <th>Grid</th>\n",
       "      <th>Best score</th>\n",
       "    </tr>\n",
       "  </thead>\n",
       "  <tbody>\n",
       "    <tr>\n",
       "      <th>3</th>\n",
       "      <td>gs_gbr</td>\n",
       "      <td>-227116.831055</td>\n",
       "    </tr>\n",
       "    <tr>\n",
       "      <th>0</th>\n",
       "      <td>gs_rand_forest</td>\n",
       "      <td>-231605.601698</td>\n",
       "    </tr>\n",
       "    <tr>\n",
       "      <th>2</th>\n",
       "      <td>gs_ada</td>\n",
       "      <td>-307750.598345</td>\n",
       "    </tr>\n",
       "    <tr>\n",
       "      <th>1</th>\n",
       "      <td>gs_svm</td>\n",
       "      <td>-352410.989033</td>\n",
       "    </tr>\n",
       "  </tbody>\n",
       "</table>\n",
       "</div>"
      ],
      "text/plain": [
       "             Grid     Best score\n",
       "3          gs_gbr -227116.831055\n",
       "0  gs_rand_forest -231605.601698\n",
       "2          gs_ada -307750.598345\n",
       "1          gs_svm -352410.989033"
      ]
     },
     "execution_count": 70,
     "metadata": {},
     "output_type": "execute_result"
    }
   ],
   "source": [
    "best_grids = [(i, j.best_score_) for i, j in grids.items()]\n",
    "\n",
    "best_grids = pd.DataFrame(best_grids, columns=[\"Grid\", \"Best score\"]).sort_values(by=\"Best score\", ascending=False)\n",
    "best_grids"
   ]
  },
  {
   "cell_type": "code",
   "execution_count": 71,
   "metadata": {},
   "outputs": [
    {
     "data": {
      "text/plain": [
       "0.4939393512692367"
      ]
     },
     "execution_count": 71,
     "metadata": {},
     "output_type": "execute_result"
    }
   ],
   "source": [
    "# El mejor modelo ha sido\n",
    "best_model = grids[\"gs_gbr\"]\n",
    "mejor_modelo = best_model.best_estimator_\n",
    "mejor_modelo.fit(X_train, y_train)\n",
    "mejor_modelo.score(X_test, y_test)"
   ]
  },
  {
   "cell_type": "code",
   "execution_count": 72,
   "metadata": {},
   "outputs": [],
   "source": [
    "tree_reg = DecisionTreeRegressor()\n",
    "\n",
    "lasso = Pipeline(steps=[(\"scaler\",StandardScaler()),\n",
    "                          (\"lasso\",Lasso())\n",
    "                         ])\n",
    "\n",
    "\n",
    "tree_reg_param = {\n",
    "    'max_depth': [3, 5, 7],\n",
    "    'min_samples_leaf': [2, 4],\n",
    "    'max_features': [1, 2]\n",
    "    }\n",
    "\n",
    "lasso_param = {\n",
    "    'lasso__alpha': [0.1, 1.0, 10.0],\n",
    "    'lasso__tol': [0.001, 0.0001, 0.00001],\n",
    "    }\n",
    "\n",
    "gs_tree = GridSearchCV(tree_reg,\n",
    "                        tree_reg_param,\n",
    "                        cv=10,\n",
    "                        scoring=[\"neg_mean_squared_error\", \"r2\"],\n",
    "                        verbose=1,\n",
    "                        n_jobs=-1, refit=\"neg_mean_squared_error\")\n",
    "\n",
    "gs_lasso = GridSearchCV(lasso,\n",
    "                        lasso_param,\n",
    "                        cv=10,\n",
    "                        scoring=[\"neg_mean_squared_error\", \"r2\"],\n",
    "                        verbose=1,\n",
    "                        n_jobs=-1, refit=\"neg_mean_squared_error\")\n",
    "\n",
    "grids_2 = {\"gs_tree_reg\":gs_tree,\n",
    "         \"gs_lasso\":gs_lasso,\n",
    "         }"
   ]
  },
  {
   "cell_type": "code",
   "execution_count": 73,
   "metadata": {},
   "outputs": [
    {
     "name": "stdout",
     "output_type": "stream",
     "text": [
      "Fitting 10 folds for each of 12 candidates, totalling 120 fits\n",
      "Fitting 10 folds for each of 9 candidates, totalling 90 fits\n",
      "CPU times: total: 15.6 ms\n",
      "Wall time: 288 ms\n"
     ]
    }
   ],
   "source": [
    "%%time\n",
    "\n",
    "for nombre, grid_search in grids_2.items():\n",
    "    grid_search.fit(X_train, y_train)"
   ]
  },
  {
   "cell_type": "code",
   "execution_count": 74,
   "metadata": {},
   "outputs": [
    {
     "data": {
      "text/html": [
       "<div>\n",
       "<style scoped>\n",
       "    .dataframe tbody tr th:only-of-type {\n",
       "        vertical-align: middle;\n",
       "    }\n",
       "\n",
       "    .dataframe tbody tr th {\n",
       "        vertical-align: top;\n",
       "    }\n",
       "\n",
       "    .dataframe thead th {\n",
       "        text-align: right;\n",
       "    }\n",
       "</style>\n",
       "<table border=\"1\" class=\"dataframe\">\n",
       "  <thead>\n",
       "    <tr style=\"text-align: right;\">\n",
       "      <th></th>\n",
       "      <th>Grid</th>\n",
       "      <th>Best score</th>\n",
       "    </tr>\n",
       "  </thead>\n",
       "  <tbody>\n",
       "    <tr>\n",
       "      <th>0</th>\n",
       "      <td>gs_tree_reg</td>\n",
       "      <td>-245409.381489</td>\n",
       "    </tr>\n",
       "    <tr>\n",
       "      <th>1</th>\n",
       "      <td>gs_lasso</td>\n",
       "      <td>-402021.254260</td>\n",
       "    </tr>\n",
       "  </tbody>\n",
       "</table>\n",
       "</div>"
      ],
      "text/plain": [
       "          Grid     Best score\n",
       "0  gs_tree_reg -245409.381489\n",
       "1     gs_lasso -402021.254260"
      ]
     },
     "execution_count": 74,
     "metadata": {},
     "output_type": "execute_result"
    }
   ],
   "source": [
    "best_grids = [(i, j.best_score_) for i, j in grids_2.items()]\n",
    "\n",
    "best_grids = pd.DataFrame(best_grids, columns=[\"Grid\", \"Best score\"]).sort_values(by=\"Best score\", ascending=False)\n",
    "best_grids"
   ]
  },
  {
   "cell_type": "code",
   "execution_count": 75,
   "metadata": {},
   "outputs": [
    {
     "data": {
      "text/plain": [
       "0.45126365666956236"
      ]
     },
     "execution_count": 75,
     "metadata": {},
     "output_type": "execute_result"
    }
   ],
   "source": [
    "# El mejor modelo ha sido\n",
    "best_model = grids_2[\"gs_tree_reg\"]\n",
    "mejor_modelo = best_model.best_estimator_\n",
    "mejor_modelo.fit(X_train, y_train)\n",
    "mejor_modelo.score(X_test, y_test)"
   ]
  },
  {
   "cell_type": "code",
   "execution_count": 76,
   "metadata": {},
   "outputs": [
    {
     "data": {
      "text/plain": [
       "{'max_depth': 7, 'max_features': 2, 'min_samples_leaf': 4}"
      ]
     },
     "execution_count": 76,
     "metadata": {},
     "output_type": "execute_result"
    }
   ],
   "source": [
    "best_model = pd.DataFrame(gs_tree.cv_results_)\n",
    "model_ranking = best_model[[\"params\", \"rank_test_r2\", \"rank_test_neg_mean_squared_error\"]].sort_values(by=\"rank_test_r2\")\n",
    "\n",
    "model_ranking.loc[11, \"params\"]"
   ]
  },
  {
   "attachments": {},
   "cell_type": "markdown",
   "metadata": {},
   "source": [
    "### Ningún modelo lo hace bien así que imputamos por media"
   ]
  },
  {
   "cell_type": "code",
   "execution_count": 81,
   "metadata": {},
   "outputs": [],
   "source": [
    "df_length = df.copy()\n",
    "\n",
    "final_target = df_length\n",
    "\n",
    "final_target[\"length [mm]\"] =  final_target[\"length [mm]\"].fillna(final_target[\"length [mm]\"].mean())"
   ]
  },
  {
   "attachments": {},
   "cell_type": "markdown",
   "metadata": {},
   "source": [
    "# Pressure imputation"
   ]
  },
  {
   "cell_type": "code",
   "execution_count": 22,
   "metadata": {},
   "outputs": [],
   "source": [
    "df_pressure = df.copy()"
   ]
  },
  {
   "cell_type": "code",
   "execution_count": 26,
   "metadata": {},
   "outputs": [
    {
     "name": "stdout",
     "output_type": "stream",
     "text": [
      "<class 'pandas.core.frame.DataFrame'>\n",
      "Int64Index: 3812 entries, 1 to 31639\n",
      "Data columns (total 4 columns):\n",
      " #   Column           Non-Null Count  Dtype  \n",
      "---  ------           --------------  -----  \n",
      " 0   id               3812 non-null   int64  \n",
      " 1   length [mm]      3812 non-null   float64\n",
      " 2   pressure [MPa]   0 non-null      float64\n",
      " 3   chf_exp [MW/m2]  3812 non-null   float64\n",
      "dtypes: float64(3), int64(1)\n",
      "memory usage: 148.9 KB\n"
     ]
    }
   ],
   "source": [
    "target_2 = df_pressure[df_pressure[\"pressure [MPa]\"].isnull()]\n",
    "target_2 = target_2[(target_2[\"length [mm]\"].notna())]\n",
    "target_2.info()"
   ]
  },
  {
   "cell_type": "code",
   "execution_count": 30,
   "metadata": {},
   "outputs": [
    {
     "data": {
      "text/html": [
       "<div>\n",
       "<style scoped>\n",
       "    .dataframe tbody tr th:only-of-type {\n",
       "        vertical-align: middle;\n",
       "    }\n",
       "\n",
       "    .dataframe tbody tr th {\n",
       "        vertical-align: top;\n",
       "    }\n",
       "\n",
       "    .dataframe thead th {\n",
       "        text-align: right;\n",
       "    }\n",
       "</style>\n",
       "<table border=\"1\" class=\"dataframe\">\n",
       "  <thead>\n",
       "    <tr style=\"text-align: right;\">\n",
       "      <th></th>\n",
       "      <th>length [mm]</th>\n",
       "      <th>chf_exp [MW/m2]</th>\n",
       "    </tr>\n",
       "  </thead>\n",
       "  <tbody>\n",
       "    <tr>\n",
       "      <th>count</th>\n",
       "      <td>23073.000000</td>\n",
       "      <td>23073.000000</td>\n",
       "    </tr>\n",
       "    <tr>\n",
       "      <th>mean</th>\n",
       "      <td>831.467429</td>\n",
       "      <td>3.805145</td>\n",
       "    </tr>\n",
       "    <tr>\n",
       "      <th>std</th>\n",
       "      <td>670.306167</td>\n",
       "      <td>1.974666</td>\n",
       "    </tr>\n",
       "    <tr>\n",
       "      <th>min</th>\n",
       "      <td>10.000000</td>\n",
       "      <td>0.800000</td>\n",
       "    </tr>\n",
       "    <tr>\n",
       "      <th>25%</th>\n",
       "      <td>318.000000</td>\n",
       "      <td>2.400000</td>\n",
       "    </tr>\n",
       "    <tr>\n",
       "      <th>50%</th>\n",
       "      <td>610.000000</td>\n",
       "      <td>3.400000</td>\n",
       "    </tr>\n",
       "    <tr>\n",
       "      <th>75%</th>\n",
       "      <td>914.000000</td>\n",
       "      <td>4.700000</td>\n",
       "    </tr>\n",
       "    <tr>\n",
       "      <th>max</th>\n",
       "      <td>3048.000000</td>\n",
       "      <td>19.300000</td>\n",
       "    </tr>\n",
       "  </tbody>\n",
       "</table>\n",
       "</div>"
      ],
      "text/plain": [
       "        length [mm]  chf_exp [MW/m2]\n",
       "count  23073.000000     23073.000000\n",
       "mean     831.467429         3.805145\n",
       "std      670.306167         1.974666\n",
       "min       10.000000         0.800000\n",
       "25%      318.000000         2.400000\n",
       "50%      610.000000         3.400000\n",
       "75%      914.000000         4.700000\n",
       "max     3048.000000        19.300000"
      ]
     },
     "execution_count": 30,
     "metadata": {},
     "output_type": "execute_result"
    }
   ],
   "source": [
    "df_pressure.dropna(how=\"any\", inplace=True)\n",
    "X = df_pressure[[\"length [mm]\", \"chf_exp [MW/m2]\"]]\n",
    "y = df_pressure[\"pressure [MPa]\"]\n",
    "X.describe()"
   ]
  },
  {
   "cell_type": "code",
   "execution_count": 31,
   "metadata": {},
   "outputs": [],
   "source": [
    "X_train, X_test, y_train, y_test = train_test_split(X, y, test_size=0.2, random_state=2)"
   ]
  },
  {
   "cell_type": "code",
   "execution_count": 32,
   "metadata": {},
   "outputs": [],
   "source": [
    "rand_forest = Pipeline(steps=[\n",
    "                          (\"scaler\",StandardScaler()),\n",
    "                          (\"rad_forest\",RandomForestRegressor(random_state=42))\n",
    "                         ])\n",
    "\n",
    "svm = Pipeline(steps=[(\"scaler\",StandardScaler()),\n",
    "                          (\"SVR\",SVR())\n",
    "                         ])\n",
    "\n",
    "ada_reg = Pipeline(steps=[(\"scaler\",StandardScaler()),\n",
    "                          (\"ada_reg\",AdaBoostRegressor(n_estimators=200,\n",
    "                            random_state=42))\n",
    "                         ])\n",
    "\n",
    "gbr_reg = Pipeline(steps=[(\"scaler\",StandardScaler()),\n",
    "                          (\"gbr_reg\",GradientBoostingRegressor(random_state=42))\n",
    "                         ])\n",
    "\n",
    "vot_reg = Pipeline(steps=[(\"scaler\",StandardScaler()),\n",
    "                          (\"vot_reg\",VotingRegressor(estimators=200))\n",
    "                         ])\n",
    "\n",
    "# Definimos sus hiperparametros\n",
    "\n",
    "rand_forest_param = {\n",
    "    'rad_forest__n_estimators': [10, 100, 1000],\n",
    "    'rad_forest__min_samples_leaf': [2, 4],\n",
    "    'rad_forest__max_features': [1, 2]\n",
    "    }\n",
    "\n",
    "svm_param = {\n",
    "    'SVR__C': [0.1, 1, 10],\n",
    "    'SVR__kernel': [\"linear\", \"rbf\", \"poly\"],\n",
    "    'SVR__gamma': [\"scale\", \"auto\"]\n",
    "}\n",
    "\n",
    "ada_param = {\n",
    "    'ada_reg__n_estimators': [100, 200, 300],\n",
    "    'ada_reg__learning_rate': [0.01, 0.1, 1]\n",
    "}\n",
    "\n",
    "gbr_param = {\n",
    "    'gbr_reg__n_estimators': [100, 200, 300],\n",
    "    'gbr_reg__learning_rate': [0.01, 0.1, 1],\n",
    "    'gbr_reg__max_depth': [3, 5, 7]\n",
    "}\n",
    "\n",
    "\n",
    "# GridSearch\n",
    "\n",
    "gs_rand_forest = GridSearchCV(rand_forest,\n",
    "                            rand_forest_param,\n",
    "                            cv=10,\n",
    "                            scoring=[\"neg_mean_squared_error\", \"r2\"],\n",
    "                            verbose=1,\n",
    "                            n_jobs=-1, refit=\"neg_mean_squared_error\")\n",
    "\n",
    "gs_svm = GridSearchCV(svm,\n",
    "                        svm_param,\n",
    "                        cv=10,\n",
    "                        scoring=[\"neg_mean_squared_error\", \"r2\"],\n",
    "                        verbose=1,\n",
    "                        n_jobs=-1, refit=\"neg_mean_squared_error\")\n",
    "\n",
    "gs_ada = GridSearchCV(ada_reg,\n",
    "                        ada_param,\n",
    "                        cv=10,\n",
    "                        scoring=[\"neg_mean_squared_error\", \"r2\"],\n",
    "                        verbose=1,\n",
    "                        n_jobs=-1, refit=\"neg_mean_squared_error\")\n",
    "\n",
    "gs_gbr = GridSearchCV(gbr_reg,\n",
    "                        gbr_param,\n",
    "                        cv=10,\n",
    "                        scoring=[\"neg_mean_squared_error\", \"r2\"],\n",
    "                        verbose=1,\n",
    "                        n_jobs=-1, refit=\"neg_mean_squared_error\")\n",
    "\n",
    "grids = {\"gs_rand_forest\":gs_rand_forest,\n",
    "         \"gs_svm\":gs_svm,\n",
    "         \"gs_ada\":gs_ada,\n",
    "         \"gs_gbr\":gs_gbr,\n",
    "         }"
   ]
  },
  {
   "cell_type": "code",
   "execution_count": 33,
   "metadata": {},
   "outputs": [
    {
     "name": "stdout",
     "output_type": "stream",
     "text": [
      "Fitting 10 folds for each of 12 candidates, totalling 120 fits\n",
      "Fitting 10 folds for each of 18 candidates, totalling 180 fits\n",
      "Fitting 10 folds for each of 9 candidates, totalling 90 fits\n",
      "Fitting 10 folds for each of 27 candidates, totalling 270 fits\n",
      "CPU times: total: 10.9 s\n",
      "Wall time: 5min 45s\n"
     ]
    }
   ],
   "source": [
    "%%time\n",
    "\n",
    "for nombre, grid_search in grids.items():\n",
    "    grid_search.fit(X_train, y_train)"
   ]
  },
  {
   "cell_type": "code",
   "execution_count": 34,
   "metadata": {},
   "outputs": [
    {
     "data": {
      "text/html": [
       "<div>\n",
       "<style scoped>\n",
       "    .dataframe tbody tr th:only-of-type {\n",
       "        vertical-align: middle;\n",
       "    }\n",
       "\n",
       "    .dataframe tbody tr th {\n",
       "        vertical-align: top;\n",
       "    }\n",
       "\n",
       "    .dataframe thead th {\n",
       "        text-align: right;\n",
       "    }\n",
       "</style>\n",
       "<table border=\"1\" class=\"dataframe\">\n",
       "  <thead>\n",
       "    <tr style=\"text-align: right;\">\n",
       "      <th></th>\n",
       "      <th>Grid</th>\n",
       "      <th>Best score</th>\n",
       "    </tr>\n",
       "  </thead>\n",
       "  <tbody>\n",
       "    <tr>\n",
       "      <th>3</th>\n",
       "      <td>gs_gbr</td>\n",
       "      <td>-4.618646</td>\n",
       "    </tr>\n",
       "    <tr>\n",
       "      <th>0</th>\n",
       "      <td>gs_rand_forest</td>\n",
       "      <td>-4.770583</td>\n",
       "    </tr>\n",
       "    <tr>\n",
       "      <th>2</th>\n",
       "      <td>gs_ada</td>\n",
       "      <td>-11.593515</td>\n",
       "    </tr>\n",
       "    <tr>\n",
       "      <th>1</th>\n",
       "      <td>gs_svm</td>\n",
       "      <td>-13.575802</td>\n",
       "    </tr>\n",
       "  </tbody>\n",
       "</table>\n",
       "</div>"
      ],
      "text/plain": [
       "             Grid  Best score\n",
       "3          gs_gbr   -4.618646\n",
       "0  gs_rand_forest   -4.770583\n",
       "2          gs_ada  -11.593515\n",
       "1          gs_svm  -13.575802"
      ]
     },
     "execution_count": 34,
     "metadata": {},
     "output_type": "execute_result"
    }
   ],
   "source": [
    "best_grids = [(i, j.best_score_) for i, j in grids.items()]\n",
    "\n",
    "best_grids = pd.DataFrame(best_grids, columns=[\"Grid\", \"Best score\"]).sort_values(by=\"Best score\", ascending=False)\n",
    "best_grids"
   ]
  },
  {
   "cell_type": "code",
   "execution_count": 35,
   "metadata": {},
   "outputs": [
    {
     "data": {
      "text/plain": [
       "0.762115621377701"
      ]
     },
     "execution_count": 35,
     "metadata": {},
     "output_type": "execute_result"
    }
   ],
   "source": [
    "# El mejor modelo ha sido\n",
    "best_model = grids[\"gs_gbr\"]\n",
    "mejor_modelo = best_model.best_estimator_\n",
    "mejor_modelo.fit(X_train, y_train)\n",
    "mejor_modelo.score(X_test, y_test)"
   ]
  },
  {
   "cell_type": "code",
   "execution_count": 37,
   "metadata": {},
   "outputs": [
    {
     "data": {
      "text/plain": [
       "{'gbr_reg__learning_rate': 0.1,\n",
       " 'gbr_reg__max_depth': 3,\n",
       " 'gbr_reg__n_estimators': 300}"
      ]
     },
     "execution_count": 37,
     "metadata": {},
     "output_type": "execute_result"
    }
   ],
   "source": [
    "best_model = pd.DataFrame(gs_gbr.cv_results_)\n",
    "model_ranking = best_model[[\"params\", \"rank_test_r2\", \"rank_test_neg_mean_squared_error\"]].sort_values(by=\"rank_test_r2\")\n",
    "\n",
    "model_ranking.loc[11, \"params\"]"
   ]
  },
  {
   "cell_type": "code",
   "execution_count": 38,
   "metadata": {},
   "outputs": [
    {
     "data": {
      "text/html": [
       "<style>#sk-container-id-2 {color: black;background-color: white;}#sk-container-id-2 pre{padding: 0;}#sk-container-id-2 div.sk-toggleable {background-color: white;}#sk-container-id-2 label.sk-toggleable__label {cursor: pointer;display: block;width: 100%;margin-bottom: 0;padding: 0.3em;box-sizing: border-box;text-align: center;}#sk-container-id-2 label.sk-toggleable__label-arrow:before {content: \"▸\";float: left;margin-right: 0.25em;color: #696969;}#sk-container-id-2 label.sk-toggleable__label-arrow:hover:before {color: black;}#sk-container-id-2 div.sk-estimator:hover label.sk-toggleable__label-arrow:before {color: black;}#sk-container-id-2 div.sk-toggleable__content {max-height: 0;max-width: 0;overflow: hidden;text-align: left;background-color: #f0f8ff;}#sk-container-id-2 div.sk-toggleable__content pre {margin: 0.2em;color: black;border-radius: 0.25em;background-color: #f0f8ff;}#sk-container-id-2 input.sk-toggleable__control:checked~div.sk-toggleable__content {max-height: 200px;max-width: 100%;overflow: auto;}#sk-container-id-2 input.sk-toggleable__control:checked~label.sk-toggleable__label-arrow:before {content: \"▾\";}#sk-container-id-2 div.sk-estimator input.sk-toggleable__control:checked~label.sk-toggleable__label {background-color: #d4ebff;}#sk-container-id-2 div.sk-label input.sk-toggleable__control:checked~label.sk-toggleable__label {background-color: #d4ebff;}#sk-container-id-2 input.sk-hidden--visually {border: 0;clip: rect(1px 1px 1px 1px);clip: rect(1px, 1px, 1px, 1px);height: 1px;margin: -1px;overflow: hidden;padding: 0;position: absolute;width: 1px;}#sk-container-id-2 div.sk-estimator {font-family: monospace;background-color: #f0f8ff;border: 1px dotted black;border-radius: 0.25em;box-sizing: border-box;margin-bottom: 0.5em;}#sk-container-id-2 div.sk-estimator:hover {background-color: #d4ebff;}#sk-container-id-2 div.sk-parallel-item::after {content: \"\";width: 100%;border-bottom: 1px solid gray;flex-grow: 1;}#sk-container-id-2 div.sk-label:hover label.sk-toggleable__label {background-color: #d4ebff;}#sk-container-id-2 div.sk-serial::before {content: \"\";position: absolute;border-left: 1px solid gray;box-sizing: border-box;top: 0;bottom: 0;left: 50%;z-index: 0;}#sk-container-id-2 div.sk-serial {display: flex;flex-direction: column;align-items: center;background-color: white;padding-right: 0.2em;padding-left: 0.2em;position: relative;}#sk-container-id-2 div.sk-item {position: relative;z-index: 1;}#sk-container-id-2 div.sk-parallel {display: flex;align-items: stretch;justify-content: center;background-color: white;position: relative;}#sk-container-id-2 div.sk-item::before, #sk-container-id-2 div.sk-parallel-item::before {content: \"\";position: absolute;border-left: 1px solid gray;box-sizing: border-box;top: 0;bottom: 0;left: 50%;z-index: -1;}#sk-container-id-2 div.sk-parallel-item {display: flex;flex-direction: column;z-index: 1;position: relative;background-color: white;}#sk-container-id-2 div.sk-parallel-item:first-child::after {align-self: flex-end;width: 50%;}#sk-container-id-2 div.sk-parallel-item:last-child::after {align-self: flex-start;width: 50%;}#sk-container-id-2 div.sk-parallel-item:only-child::after {width: 0;}#sk-container-id-2 div.sk-dashed-wrapped {border: 1px dashed gray;margin: 0 0.4em 0.5em 0.4em;box-sizing: border-box;padding-bottom: 0.4em;background-color: white;}#sk-container-id-2 div.sk-label label {font-family: monospace;font-weight: bold;display: inline-block;line-height: 1.2em;}#sk-container-id-2 div.sk-label-container {text-align: center;}#sk-container-id-2 div.sk-container {/* jupyter's `normalize.less` sets `[hidden] { display: none; }` but bootstrap.min.css set `[hidden] { display: none !important; }` so we also need the `!important` here to be able to override the default hidden behavior on the sphinx rendered scikit-learn.org. See: https://github.com/scikit-learn/scikit-learn/issues/21755 */display: inline-block !important;position: relative;}#sk-container-id-2 div.sk-text-repr-fallback {display: none;}</style><div id=\"sk-container-id-2\" class=\"sk-top-container\"><div class=\"sk-text-repr-fallback\"><pre>GradientBoostingRegressor(n_estimators=300)</pre><b>In a Jupyter environment, please rerun this cell to show the HTML representation or trust the notebook. <br />On GitHub, the HTML representation is unable to render, please try loading this page with nbviewer.org.</b></div><div class=\"sk-container\" hidden><div class=\"sk-item\"><div class=\"sk-estimator sk-toggleable\"><input class=\"sk-toggleable__control sk-hidden--visually\" id=\"sk-estimator-id-4\" type=\"checkbox\" checked><label for=\"sk-estimator-id-4\" class=\"sk-toggleable__label sk-toggleable__label-arrow\">GradientBoostingRegressor</label><div class=\"sk-toggleable__content\"><pre>GradientBoostingRegressor(n_estimators=300)</pre></div></div></div></div></div>"
      ],
      "text/plain": [
       "GradientBoostingRegressor(n_estimators=300)"
      ]
     },
     "execution_count": 38,
     "metadata": {},
     "output_type": "execute_result"
    }
   ],
   "source": [
    "# Elegir modelo\n",
    "\n",
    "gb_reg = GradientBoostingRegressor(learning_rate=0.1,max_depth=3, n_estimators=300)\n",
    "\n",
    "gb_reg.fit(X, y)"
   ]
  },
  {
   "cell_type": "code",
   "execution_count": 39,
   "metadata": {},
   "outputs": [],
   "source": [
    "target_2 = target_2[[\"length [mm]\", \"chf_exp [MW/m2]\"]]\n",
    "final_2 = gb_reg.predict(target_2)"
   ]
  },
  {
   "cell_type": "code",
   "execution_count": 79,
   "metadata": {},
   "outputs": [],
   "source": [
    "df_pressure = df.copy()\n",
    "final_target_2 = df_pressure[df_pressure[\"pressure [MPa]\"].isnull()]\n",
    "final_target_2 = final_target_2[(final_target_2[\"length [mm]\"].notna())]\n",
    "\n",
    "final_target_2[\"pressure [MPa]\"] = final_2"
   ]
  },
  {
   "cell_type": "code",
   "execution_count": 80,
   "metadata": {},
   "outputs": [
    {
     "data": {
      "text/html": [
       "<div>\n",
       "<style scoped>\n",
       "    .dataframe tbody tr th:only-of-type {\n",
       "        vertical-align: middle;\n",
       "    }\n",
       "\n",
       "    .dataframe tbody tr th {\n",
       "        vertical-align: top;\n",
       "    }\n",
       "\n",
       "    .dataframe thead th {\n",
       "        text-align: right;\n",
       "    }\n",
       "</style>\n",
       "<table border=\"1\" class=\"dataframe\">\n",
       "  <thead>\n",
       "    <tr style=\"text-align: right;\">\n",
       "      <th></th>\n",
       "      <th>id</th>\n",
       "      <th>length [mm]</th>\n",
       "      <th>pressure [MPa]</th>\n",
       "      <th>chf_exp [MW/m2]</th>\n",
       "    </tr>\n",
       "  </thead>\n",
       "  <tbody>\n",
       "    <tr>\n",
       "      <th>1</th>\n",
       "      <td>1</td>\n",
       "      <td>762.0</td>\n",
       "      <td>8.485431</td>\n",
       "      <td>6.2</td>\n",
       "    </tr>\n",
       "    <tr>\n",
       "      <th>10</th>\n",
       "      <td>10</td>\n",
       "      <td>152.0</td>\n",
       "      <td>15.279082</td>\n",
       "      <td>3.2</td>\n",
       "    </tr>\n",
       "    <tr>\n",
       "      <th>14</th>\n",
       "      <td>14</td>\n",
       "      <td>152.0</td>\n",
       "      <td>15.572101</td>\n",
       "      <td>3.8</td>\n",
       "    </tr>\n",
       "    <tr>\n",
       "      <th>18</th>\n",
       "      <td>18</td>\n",
       "      <td>432.0</td>\n",
       "      <td>6.717196</td>\n",
       "      <td>3.4</td>\n",
       "    </tr>\n",
       "    <tr>\n",
       "      <th>20</th>\n",
       "      <td>20</td>\n",
       "      <td>762.0</td>\n",
       "      <td>7.352114</td>\n",
       "      <td>4.5</td>\n",
       "    </tr>\n",
       "    <tr>\n",
       "      <th>...</th>\n",
       "      <td>...</td>\n",
       "      <td>...</td>\n",
       "      <td>...</td>\n",
       "      <td>...</td>\n",
       "    </tr>\n",
       "    <tr>\n",
       "      <th>31611</th>\n",
       "      <td>31611</td>\n",
       "      <td>1524.0</td>\n",
       "      <td>10.129523</td>\n",
       "      <td>7.3</td>\n",
       "    </tr>\n",
       "    <tr>\n",
       "      <th>31612</th>\n",
       "      <td>31612</td>\n",
       "      <td>457.0</td>\n",
       "      <td>13.778702</td>\n",
       "      <td>2.4</td>\n",
       "    </tr>\n",
       "    <tr>\n",
       "      <th>31625</th>\n",
       "      <td>31625</td>\n",
       "      <td>229.0</td>\n",
       "      <td>8.456391</td>\n",
       "      <td>12.8</td>\n",
       "    </tr>\n",
       "    <tr>\n",
       "      <th>31638</th>\n",
       "      <td>31638</td>\n",
       "      <td>318.0</td>\n",
       "      <td>13.232652</td>\n",
       "      <td>9.0</td>\n",
       "    </tr>\n",
       "    <tr>\n",
       "      <th>31639</th>\n",
       "      <td>31639</td>\n",
       "      <td>591.0</td>\n",
       "      <td>13.709249</td>\n",
       "      <td>2.3</td>\n",
       "    </tr>\n",
       "  </tbody>\n",
       "</table>\n",
       "<p>3812 rows × 4 columns</p>\n",
       "</div>"
      ],
      "text/plain": [
       "          id  length [mm]  pressure [MPa]  chf_exp [MW/m2]\n",
       "1          1        762.0        8.485431              6.2\n",
       "10        10        152.0       15.279082              3.2\n",
       "14        14        152.0       15.572101              3.8\n",
       "18        18        432.0        6.717196              3.4\n",
       "20        20        762.0        7.352114              4.5\n",
       "...      ...          ...             ...              ...\n",
       "31611  31611       1524.0       10.129523              7.3\n",
       "31612  31612        457.0       13.778702              2.4\n",
       "31625  31625        229.0        8.456391             12.8\n",
       "31638  31638        318.0       13.232652              9.0\n",
       "31639  31639        591.0       13.709249              2.3\n",
       "\n",
       "[3812 rows x 4 columns]"
      ]
     },
     "execution_count": 80,
     "metadata": {},
     "output_type": "execute_result"
    }
   ],
   "source": [
    "final_target_2"
   ]
  },
  {
   "attachments": {},
   "cell_type": "markdown",
   "metadata": {},
   "source": [
    "# Length & Pressure imputation"
   ]
  },
  {
   "cell_type": "code",
   "execution_count": 45,
   "metadata": {},
   "outputs": [
    {
     "data": {
      "text/html": [
       "<div>\n",
       "<style scoped>\n",
       "    .dataframe tbody tr th:only-of-type {\n",
       "        vertical-align: middle;\n",
       "    }\n",
       "\n",
       "    .dataframe tbody tr th {\n",
       "        vertical-align: top;\n",
       "    }\n",
       "\n",
       "    .dataframe thead th {\n",
       "        text-align: right;\n",
       "    }\n",
       "</style>\n",
       "<table border=\"1\" class=\"dataframe\">\n",
       "  <thead>\n",
       "    <tr style=\"text-align: right;\">\n",
       "      <th></th>\n",
       "      <th>id</th>\n",
       "      <th>length [mm]</th>\n",
       "      <th>pressure [MPa]</th>\n",
       "      <th>chf_exp [MW/m2]</th>\n",
       "    </tr>\n",
       "  </thead>\n",
       "  <tbody>\n",
       "    <tr>\n",
       "      <th>0</th>\n",
       "      <td>0</td>\n",
       "      <td>432.0</td>\n",
       "      <td>7.00</td>\n",
       "      <td>3.6</td>\n",
       "    </tr>\n",
       "    <tr>\n",
       "      <th>1</th>\n",
       "      <td>1</td>\n",
       "      <td>762.0</td>\n",
       "      <td>NaN</td>\n",
       "      <td>6.2</td>\n",
       "    </tr>\n",
       "    <tr>\n",
       "      <th>2</th>\n",
       "      <td>2</td>\n",
       "      <td>457.0</td>\n",
       "      <td>13.79</td>\n",
       "      <td>2.5</td>\n",
       "    </tr>\n",
       "    <tr>\n",
       "      <th>3</th>\n",
       "      <td>3</td>\n",
       "      <td>2134.0</td>\n",
       "      <td>13.79</td>\n",
       "      <td>3.0</td>\n",
       "    </tr>\n",
       "    <tr>\n",
       "      <th>4</th>\n",
       "      <td>4</td>\n",
       "      <td>457.0</td>\n",
       "      <td>13.79</td>\n",
       "      <td>2.8</td>\n",
       "    </tr>\n",
       "    <tr>\n",
       "      <th>...</th>\n",
       "      <td>...</td>\n",
       "      <td>...</td>\n",
       "      <td>...</td>\n",
       "      <td>...</td>\n",
       "    </tr>\n",
       "    <tr>\n",
       "      <th>31639</th>\n",
       "      <td>31639</td>\n",
       "      <td>591.0</td>\n",
       "      <td>NaN</td>\n",
       "      <td>2.3</td>\n",
       "    </tr>\n",
       "    <tr>\n",
       "      <th>31640</th>\n",
       "      <td>31640</td>\n",
       "      <td>NaN</td>\n",
       "      <td>13.79</td>\n",
       "      <td>3.9</td>\n",
       "    </tr>\n",
       "    <tr>\n",
       "      <th>31641</th>\n",
       "      <td>31641</td>\n",
       "      <td>150.0</td>\n",
       "      <td>18.27</td>\n",
       "      <td>2.3</td>\n",
       "    </tr>\n",
       "    <tr>\n",
       "      <th>31642</th>\n",
       "      <td>31642</td>\n",
       "      <td>1972.0</td>\n",
       "      <td>6.89</td>\n",
       "      <td>3.7</td>\n",
       "    </tr>\n",
       "    <tr>\n",
       "      <th>31643</th>\n",
       "      <td>31643</td>\n",
       "      <td>1930.0</td>\n",
       "      <td>6.89</td>\n",
       "      <td>3.3</td>\n",
       "    </tr>\n",
       "  </tbody>\n",
       "</table>\n",
       "<p>31644 rows × 4 columns</p>\n",
       "</div>"
      ],
      "text/plain": [
       "          id  length [mm]  pressure [MPa]  chf_exp [MW/m2]\n",
       "0          0        432.0            7.00              3.6\n",
       "1          1        762.0             NaN              6.2\n",
       "2          2        457.0           13.79              2.5\n",
       "3          3       2134.0           13.79              3.0\n",
       "4          4        457.0           13.79              2.8\n",
       "...      ...          ...             ...              ...\n",
       "31639  31639        591.0             NaN              2.3\n",
       "31640  31640          NaN           13.79              3.9\n",
       "31641  31641        150.0           18.27              2.3\n",
       "31642  31642       1972.0            6.89              3.7\n",
       "31643  31643       1930.0            6.89              3.3\n",
       "\n",
       "[31644 rows x 4 columns]"
      ]
     },
     "execution_count": 45,
     "metadata": {},
     "output_type": "execute_result"
    }
   ],
   "source": [
    "df"
   ]
  },
  {
   "cell_type": "code",
   "execution_count": 84,
   "metadata": {},
   "outputs": [
    {
     "name": "stdout",
     "output_type": "stream",
     "text": [
      "<class 'pandas.core.frame.DataFrame'>\n",
      "RangeIndex: 31644 entries, 0 to 31643\n",
      "Data columns (total 4 columns):\n",
      " #   Column           Non-Null Count  Dtype  \n",
      "---  ------           --------------  -----  \n",
      " 0   id               31644 non-null  int64  \n",
      " 1   length [mm]      31644 non-null  float64\n",
      " 2   pressure [MPa]   31004 non-null  float64\n",
      " 3   chf_exp [MW/m2]  31644 non-null  float64\n",
      "dtypes: float64(3), int64(1)\n",
      "memory usage: 989.0 KB\n"
     ]
    }
   ],
   "source": [
    "df.update(final_target.set_index('id').combine_first(df.set_index('id')))\n",
    "df.update(final_target_2.set_index('id').combine_first(df.set_index('id')))\n",
    "df.info()"
   ]
  },
  {
   "cell_type": "code",
   "execution_count": 85,
   "metadata": {},
   "outputs": [
    {
     "name": "stdout",
     "output_type": "stream",
     "text": [
      "<class 'pandas.core.frame.DataFrame'>\n",
      "RangeIndex: 31644 entries, 0 to 31643\n",
      "Data columns (total 4 columns):\n",
      " #   Column           Non-Null Count  Dtype  \n",
      "---  ------           --------------  -----  \n",
      " 0   id               31644 non-null  int64  \n",
      " 1   length [mm]      31644 non-null  float64\n",
      " 2   pressure [MPa]   31644 non-null  float64\n",
      " 3   chf_exp [MW/m2]  31644 non-null  float64\n",
      "dtypes: float64(3), int64(1)\n",
      "memory usage: 989.0 KB\n"
     ]
    }
   ],
   "source": [
    "df[\"pressure [MPa]\"] = df[\"pressure [MPa]\"].fillna(df[\"pressure [MPa]\"].mean())\n",
    "df.info()"
   ]
  },
  {
   "cell_type": "code",
   "execution_count": 86,
   "metadata": {},
   "outputs": [],
   "source": [
    "df.to_csv(\"../data/imputed_heat.csv\", index=False)"
   ]
  }
 ],
 "metadata": {
  "kernelspec": {
   "display_name": "Python 3",
   "language": "python",
   "name": "python3"
  },
  "language_info": {
   "codemirror_mode": {
    "name": "ipython",
    "version": 3
   },
   "file_extension": ".py",
   "mimetype": "text/x-python",
   "name": "python",
   "nbconvert_exporter": "python",
   "pygments_lexer": "ipython3",
   "version": "3.10.8"
  },
  "orig_nbformat": 4
 },
 "nbformat": 4,
 "nbformat_minor": 2
}
